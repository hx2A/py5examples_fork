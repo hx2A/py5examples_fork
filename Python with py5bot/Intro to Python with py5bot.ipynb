{
 "cells": [
  {
   "cell_type": "markdown",
   "id": "f8b23ed7-45ab-4abd-9027-2481205ed8b5",
   "metadata": {},
   "source": [
    "# Intro to Python with py5bot\n",
    "\n",
    "py5bot is a simple Jupyter tool for making static, non-animating drawings with py5.\n",
    "\n",
    "Each \"cell\" in this notebook is a block of py5 code that can be executed to create a single image.\n",
    "\n",
    "You can execute a cell by putting your cursor in the cell and hitting Control-Enter, Cmd-Enter, or Shift-Enter."
   ]
  },
  {
   "cell_type": "markdown",
   "id": "3f7a1feb-f147-4133-84bb-cea0a0843787",
   "metadata": {},
   "source": [
    "## Our First Drawing\n",
    "\n",
    "The below code will draw an image with a white rectangle in the center."
   ]
  },
  {
   "cell_type": "code",
   "execution_count": null,
   "id": "81880784",
   "metadata": {},
   "outputs": [],
   "source": [
    "size(300, 200)\n",
    "\n",
    "rect(50, 50, 200, 100)"
   ]
  },
  {
   "cell_type": "markdown",
   "id": "a05105ce-d715-43db-bb1f-79271cc83bda",
   "metadata": {},
   "source": [
    "The code had two commands.\n",
    "\n",
    "The first, `size(300, 200)`, tells py5bot to create an image with a width of 300 pixels and a height of 200 pixels.\n",
    "\n",
    "The second command, `rect(50, 50, 200, 100)`, tells py5bot to draw a rectangle with the upper left corner at coordinates (50, 50). It also tells py5bot that the rectangle should have a width of 200 pixels and a height of 100 pixels.\n",
    "\n",
    "- [ ] Adjust the numbers and observe how the drawing changes.\n",
    "\n",
    "All coordinates are measured from the upper left corner of the image. Location (0, 0) is in the upper left corner. You will hear people talk about \"x\" and \"y\" coordinates. The first number is the \"x\" value and the second number is the \"y\" value.\n",
    "\n",
    "Imagine that the image is divided up into a grid. The \"x\" value specifies the column and the \"y\" value specifies the row. Increasing the \"x\" value moves to the right and increasing the \"y\" value moves down."
   ]
  },
  {
   "cell_type": "markdown",
   "id": "09624c47-acbc-4882-9580-7f4600d6c750",
   "metadata": {},
   "source": [
    "## Adding Color\n",
    "\n",
    "The `background()` command will pick a color for the image background.\n",
    "\n",
    "The `fill()` command will pick a color for the inside of the rectangle.\n",
    "\n",
    "The `stroke()` command will pick a color for the rectangle's border.\n",
    "\n",
    "The `stroke_weight()` command select the width of the rectangle's border."
   ]
  },
  {
   "cell_type": "code",
   "execution_count": null,
   "id": "747f972f",
   "metadata": {},
   "outputs": [],
   "source": [
    "size(300, 200)\n",
    "\n",
    "background(\"#444444\")\n",
    "\n",
    "# set line and fill characteristics\n",
    "fill(\"#FF0000\")\n",
    "stroke(\"#00FFFF\")\n",
    "stroke_weight(4)\n",
    "\n",
    "rect(50, 50, 200, 100)"
   ]
  },
  {
   "cell_type": "markdown",
   "id": "5da7e60e-80b5-4139-9ef3-0202aecad60d",
   "metadata": {},
   "source": [
    "Here, colors are specified using using [web color](https://en.wikipedia.org/wiki/Web_colors) syntax like `\"#FF0000\"`. There are other ways of specifying colors but for this tutorial we will stick to one method.\n",
    "\n",
    "Web colors use a `\"#\"` sign followed by 6 letters or numbers to specify 3 hexidecimal numbers for the red, green, and blue components of the color. The first two are for red, the second two are for green, and the final two are for blue. Refer to Wikipedia's [web color](https://en.wikipedia.org/wiki/Web_colors) page for a more detailed explanation.\n",
    "\n",
    "A \"comment\" is any line or partial line of code that starts with a `#`. Everything from the `#` character to the end is ignored.\n",
    "\n",
    "- [ ] Change the colors to make the rectangle interior yellow and the border blue."
   ]
  },
  {
   "cell_type": "markdown",
   "id": "fea35b67-ed30-4d89-9e0a-513289f14fed",
   "metadata": {},
   "source": [
    "## Using Variables\n",
    "\n",
    "Values such as numbers can be \"assigned\" to variables and re-used elsewhere in the program."
   ]
  },
  {
   "cell_type": "code",
   "execution_count": null,
   "id": "4ebcc4bc",
   "metadata": {},
   "outputs": [],
   "source": [
    "size(300, 200)\n",
    "\n",
    "background(\"#444444\")\n",
    "\n",
    "# set line and fill characteristics\n",
    "rect_fill_color = \"#FF0000\"\n",
    "rect_border_color = \"#00FFFF\"\n",
    "rect_stroke_weight = 4\n",
    "\n",
    "fill(rect_fill_color)\n",
    "stroke(rect_border_color)\n",
    "stroke_weight(rect_stroke_weight)\n",
    "\n",
    "rect(50, 50, 200, 100)"
   ]
  },
  {
   "cell_type": "markdown",
   "id": "b296afde-2ab0-4543-94cf-6ba534f9e4e8",
   "metadata": {},
   "source": [
    "The variables `rect_fill_color`, `rect_border_color`, and `rect_stroke_weight` store values that are re-used later in the `fill()`, `stroke()`, and `stroke_weight()` commands.\n",
    "\n",
    "- [ ] Adjust values assigned to the variables to change the rectangle's interior to your favorite color."
   ]
  },
  {
   "cell_type": "markdown",
   "id": "7db023a9-decc-45bd-861f-bf239123c34a",
   "metadata": {},
   "source": [
    "Variables are most useful when they are used more than once."
   ]
  },
  {
   "cell_type": "code",
   "execution_count": null,
   "id": "8ab7cdc2",
   "metadata": {},
   "outputs": [],
   "source": [
    "size(300, 200)\n",
    "\n",
    "background(\"#444444\")\n",
    "\n",
    "# define some variables\n",
    "rect_top = 50\n",
    "rect_height = 100\n",
    "rect_width = 50\n",
    "\n",
    "# set line and fill characteristics\n",
    "fill(\"#FF0000\")\n",
    "stroke(\"#00FFFF\")\n",
    "stroke_weight(4)\n",
    "\n",
    "# draw 3 rectangles\n",
    "rect(50, rect_top, rect_width, rect_height)\n",
    "rect(125, rect_top, rect_width, rect_height)\n",
    "rect(200, rect_top, rect_width, rect_height)"
   ]
  },
  {
   "cell_type": "markdown",
   "id": "c4350c2a-ce13-4eed-9de7-ea477ab9f0d6",
   "metadata": {},
   "source": [
    "This example uses variables for the `rect()` function's parameters.\n",
    "\n",
    "- [ ] Adjust the variables and observe how all of the rectangles change at the same time."
   ]
  },
  {
   "cell_type": "markdown",
   "id": "14a5cf58-e103-442d-9795-af41f92e9ac0",
   "metadata": {},
   "source": [
    "## Using Loops\n",
    "\n",
    "Loops are used to repeat sections of code."
   ]
  },
  {
   "cell_type": "code",
   "execution_count": null,
   "id": "7afccd57-a655-43be-916d-61066c91b884",
   "metadata": {},
   "outputs": [],
   "source": [
    "size(300, 200)\n",
    "\n",
    "background(\"#444444\")\n",
    "\n",
    "# define some variables\n",
    "rect_top = 50\n",
    "rect_height = 100\n",
    "rect_width = 50\n",
    "\n",
    "# set line and fill characteristics\n",
    "fill(\"#FF0000\")\n",
    "stroke(\"#00FFFF\")\n",
    "stroke_weight(4)\n",
    "\n",
    "for num in [0, 1, 2]:\n",
    "    print(num)\n",
    "    rect(50 + num * 75, rect_top, rect_width, rect_height)\n",
    "    \n",
    "print('done with for loop')"
   ]
  },
  {
   "cell_type": "markdown",
   "id": "5e4aeefb-0aa7-4463-a2e9-201bb271a67c",
   "metadata": {},
   "source": [
    "The line of code `for num in [0, 1, 2]:` has several important elements.\n",
    "\n",
    "* The indented code is repeated. There are no brackets (`{` or `}`) to denote the code that is to be repeated.\n",
    "* The `num` variable is assigned a new value in the list `[0, 1, 2]` for each trip through the loop.\n",
    "* The print statement in the for loop is used to show the value of `num`. This can be helpful when debugging.\n",
    "* The final print statement is not indented, and therefore is not repeated.\n",
    "\n",
    "The below example is identical to the previous one except for `range(3)` in the line of code that initiates the loop."
   ]
  },
  {
   "cell_type": "code",
   "execution_count": null,
   "id": "90ec531b-c2e4-43a9-af7e-7810dd53d1a2",
   "metadata": {},
   "outputs": [],
   "source": [
    "size(300, 200)\n",
    "\n",
    "background(\"#444444\")\n",
    "\n",
    "# define some variables\n",
    "rect_top = 50\n",
    "rect_height = 100\n",
    "rect_width = 50\n",
    "\n",
    "# set line and fill characteristics\n",
    "fill(\"#FF0000\")\n",
    "stroke(\"#00FFFF\")\n",
    "stroke_weight(4)\n",
    "\n",
    "for num in range(3):\n",
    "    print(num)\n",
    "    rect(50 + num * 75, rect_top, rect_width, rect_height)\n",
    "    \n",
    "print('done with for loop')"
   ]
  },
  {
   "cell_type": "markdown",
   "id": "dc7d551f-a4cd-462d-8737-7cd3f79d9540",
   "metadata": {},
   "source": [
    "The `range(3)` code will \"create\" the list of numbers `[0, 1, 2]` on the fly. This is more convenient that typing out each number. Observe that it starts with the number 0 and ends with the number 2. It does not reach 3.\n",
    "\n",
    "- [ ] Modify the code to fit 10 non-overlapping rectangles in the image."
   ]
  },
  {
   "cell_type": "markdown",
   "id": "6fa568e0-1e88-4fb3-a272-8b13aa7b17fa",
   "metadata": {},
   "source": [
    "## Using Randomness\n",
    "\n",
    "Up until now, all of the examples have drawn the same image each time they are run. We can change that by using py5's random functions."
   ]
  },
  {
   "cell_type": "code",
   "execution_count": null,
   "id": "7b68acf0-cdd6-4f8e-8950-38d37323bc27",
   "metadata": {},
   "outputs": [],
   "source": [
    "size(300, 200)\n",
    "\n",
    "background(\"#444444\")\n",
    "\n",
    "# define some variables\n",
    "rect_height = 20\n",
    "rect_width = 10\n",
    "\n",
    "for i in range(8):\n",
    "    x_location = random(300)\n",
    "    y_location = random(50, 100)\n",
    "    print(x_location, y_location)\n",
    "    rect(x_location, y_location, rect_width, rect_height)"
   ]
  },
  {
   "cell_type": "markdown",
   "id": "875a92ee-f0ee-42f2-841d-810fa4e5fb35",
   "metadata": {},
   "source": [
    "Each time that code is run, it will draw the rectangles different locations. The code `random(300)` will generate a random number between 0 and 300. The code `random(50, 100)` will generate a random number between 50 and 100. The provided numbers specify the lower and upper limits. For `random(300)`, the lower limit of 0 is implied.\n",
    "\n",
    "- [ ] Modify the code so that the rectangles only appear on the left side of the image."
   ]
  },
  {
   "cell_type": "markdown",
   "id": "7e9c76f3-f038-4e1c-9737-74d1fb51be94",
   "metadata": {},
   "source": [
    "## Conditional Statements\n",
    "\n",
    "Conditional or \"if\" statements will execute code if some condition is True or False. This is useful for writing code that runs only some of the time. In the below example, an \"if\" statement generates a random number and compares it with the constant value `5`."
   ]
  },
  {
   "cell_type": "code",
   "execution_count": null,
   "id": "487f6326-8dc5-4b26-acdd-abab3d309d5c",
   "metadata": {},
   "outputs": [],
   "source": [
    "size(300, 200)\n",
    "\n",
    "background(\"#444444\")\n",
    "\n",
    "# define some variables\n",
    "rect_height = 20\n",
    "rect_width = 10\n",
    "\n",
    "if random(10) > 5:\n",
    "    fill(\"#FFFF00\")\n",
    "else:\n",
    "    fill(\"#0000FF\")\n",
    "\n",
    "for i in range(20):\n",
    "    x_location = random(300)\n",
    "    y_location = random(200)\n",
    "\n",
    "    rect(x_location, y_location, rect_width, rect_height)"
   ]
  },
  {
   "cell_type": "markdown",
   "id": "b49042e6-9aca-4692-826c-6bf1d034e6ec",
   "metadata": {},
   "source": [
    "In this example the \"predictate\" is `random() > 5`. When that is True, the fill color will be yellow. When it is False, the fill color will be blue. The color is now dependent on the random marker location.\n",
    "\n",
    "The \"if\" statement has several important elements:\n",
    "\n",
    "* The `if` statement contains a predicate to be evaluated and ends with a `:`\n",
    "* The indented block of code after the `if` statement will only run if the predicate is True.\n",
    "* The `else:` statement is not indented and denotes the end of the code that will run if the predicate is True. Any indented code after it will be run only if the predicate is False.\n",
    "\n",
    "\n",
    "- [ ] Modify the code so that the rectangle's fill color is more likely to be yellow than blue."
   ]
  },
  {
   "cell_type": "markdown",
   "id": "7e50dfef-ebb6-4a93-a356-1b029d2a9eeb",
   "metadata": {},
   "source": [
    "## Built-in Variables\n",
    "\n",
    "py5 provides some built-in variables `width` and `height`. These store the width and height of the drawing surface and are equal to the values passed to `size()`. These are just like any other variable except they are defined for you by py5bot.\n",
    "\n",
    "The `width` and `height` variables are useful if you were to change the values passed to `size()`. When you use these variables, the rest of the code can adjust automatically."
   ]
  },
  {
   "cell_type": "code",
   "execution_count": null,
   "id": "a6451be1-6e43-44d4-8b4f-375907efbac3",
   "metadata": {},
   "outputs": [],
   "source": [
    "size(300, 200)\n",
    "\n",
    "background(\"#444444\")\n",
    "\n",
    "for i in range(50):\n",
    "    x_location = random(width)\n",
    "    y_location = random(height)\n",
    "    rect(x_location, y_location, 10, 10)"
   ]
  },
  {
   "cell_type": "markdown",
   "id": "a7848ae7-2608-4557-a2c7-7923d6bf4d0c",
   "metadata": {},
   "source": [
    "The values `300` and `200` appear once in the code, unlike the previous code cell, where they appeared twice.\n",
    "\n",
    "- [ ] Change the image size so that it is taller than it is wide."
   ]
  },
  {
   "cell_type": "markdown",
   "id": "26b2ba25-3bc9-4e7e-8a93-cb4c1dbfca83",
   "metadata": {},
   "source": [
    "## Creating Functions\n",
    "\n",
    "You aren't limited to the functions provided by py5bot; you can also create your own. This is useful if you want to re-use blocks of code.\n",
    "\n",
    "Consider the below example. The goal is to draw specific numbers of green rectangles on the left side of the image and red rectangles on the right side of the image."
   ]
  },
  {
   "cell_type": "code",
   "execution_count": null,
   "id": "b66796d3-6db8-4c34-88c9-a078804e3c9e",
   "metadata": {},
   "outputs": [],
   "source": [
    "size(300, 200)\n",
    "\n",
    "background(\"#444444\")\n",
    "\n",
    "fill(\"#00FF00\")\n",
    "\n",
    "for i in range(8):\n",
    "    x_location = random(width / 2)\n",
    "    y_location = random(height)\n",
    "    rect_width = random(10, 20)\n",
    "    rect_height = random(10, 20)\n",
    "    rect(x_location, y_location, rect_width, rect_height)\n",
    "\n",
    "fill(\"#FF0000\")\n",
    "    \n",
    "for i in range(8):\n",
    "    x_location = random(width / 2, width)\n",
    "    y_location = random(height)\n",
    "    rect_width = random(10, 20)\n",
    "    rect_height = random(10, 20)\n",
    "    rect(x_location, y_location, rect_width, rect_height)"
   ]
  },
  {
   "cell_type": "markdown",
   "id": "706304cd-f324-40e3-9c3d-c8ea5e736d08",
   "metadata": {},
   "source": [
    "What if you wanted to change the random size ranges for the rectangles? You would have to make the change in two places. It would be better if we could write that code once but still use it in multiple locations. Functions will enable us to do that."
   ]
  },
  {
   "cell_type": "code",
   "execution_count": null,
   "id": "12646dc9-0c16-41c6-9f07-ca73976eba12",
   "metadata": {},
   "outputs": [],
   "source": [
    "size(300, 200)\n",
    "\n",
    "background(\"#444444\")\n",
    "\n",
    "def draw_random_marker(x, y):\n",
    "    rect_width = random(10, 20)\n",
    "    rect_height = random(10, 20)\n",
    "    rect(x, y, rect_width, rect_height)\n",
    "\n",
    "fill(\"#00FF00\")\n",
    "\n",
    "for i in range(8):\n",
    "    x_location = random(width / 2)\n",
    "    y_location = random(height)\n",
    "    draw_random_marker(x_location, y_location)\n",
    "\n",
    "fill(\"#FF0000\")\n",
    "    \n",
    "for i in range(8):\n",
    "    x_location = random(width / 2, width)\n",
    "    y_location = random(height)\n",
    "    draw_random_marker(x_location, y_location)"
   ]
  },
  {
   "cell_type": "markdown",
   "id": "5ce8c8ca-35b8-4138-9c6e-405b720479dc",
   "metadata": {},
   "source": [
    "The new function, `draw_random_marker()`, picks random values for the rectangle width and height and draws a rectangle to the image. This function has several important elements:\n",
    "\n",
    "* The function definition starts with `def` and ends with a `:`.\n",
    "* Values or variables can be passed to the function and are listed between the parentheses `(` and `)`. This is the same as passing values to `rect()`, `random()` or any other py5 function. If the function doesn't need variables, don't list anything between the `(` and `)`.\n",
    "* The commands to be executed each time the function is called are indented. There are no brackets (`{` or `}`) to denote the code that is inside the function. Code that is not indented signals the function definition has ended."
   ]
  },
  {
   "cell_type": "markdown",
   "id": "fed3699f-44b4-42fa-9f02-005b596acc32",
   "metadata": {},
   "source": [
    "We can continue this line of thinking by creating a second function for the for loops. Any code that is duplicated with small differences is a good candidate for converting into a function."
   ]
  },
  {
   "cell_type": "code",
   "execution_count": null,
   "id": "933d3460-18cd-48b9-a29e-1856e765b4d9",
   "metadata": {},
   "outputs": [],
   "source": [
    "size(300, 200)\n",
    "\n",
    "background(\"#444444\")\n",
    "\n",
    "\n",
    "def draw_random_marker(x, y):\n",
    "    rect_width = random(10, 20)\n",
    "    rect_height = random(10, 20)\n",
    "    rect(x, y, rect_width, rect_height)\n",
    "\n",
    "\n",
    "def draw_markers(count, min_x, max_x):\n",
    "    for i in range(count):\n",
    "        x_location = random(min_x, max_x)\n",
    "        y_location = random(height)\n",
    "        draw_random_marker(x_location, y_location)\n",
    "\n",
    "\n",
    "fill(\"#00FF00\")\n",
    "draw_markers(8, 0, width / 2)\n",
    "\n",
    "fill(\"#FF0000\")\n",
    "draw_markers(8, width / 2, width)"
   ]
  },
  {
   "cell_type": "markdown",
   "id": "9982c847-34a2-4022-8b5b-2095243d0235",
   "metadata": {},
   "source": [
    "This code is now easier to read and maintain. Blocks of code are \"encapsulated\" into re-usable functions. You can use the functions without being concerned with every detail about how they work.\n",
    "\n",
    "- [ ] Modify the image so that there are green markers on the left, blue markers in the center, and green markers on the right.\n",
    "- [ ] Could this example be created differently with \"if\" statements? Why or why not?"
   ]
  },
  {
   "cell_type": "markdown",
   "id": "019c8cc8-9b4d-4528-b11f-9833ca789157",
   "metadata": {},
   "source": [
    "## Returning Values from Functions\n",
    "\n",
    "Functions can also return values. This is often useful for repeating complex calculations or logic."
   ]
  },
  {
   "cell_type": "code",
   "execution_count": 3,
   "id": "dc2ebed3-616b-4dbd-a206-74f2f1545dbf",
   "metadata": {},
   "outputs": [
    {
     "data": {
      "image/png": "[encoded data removed]",
      "text/plain": [
       "<PIL.Image.Image image mode=RGB size=300x200>"
      ]
     },
     "execution_count": 3,
     "metadata": {},
     "output_type": "execute_result"
    }
   ],
   "source": [
    "size(300, 200)\n",
    "\n",
    "background(\"#444444\")\n",
    "\n",
    "\n",
    "def draw_random_marker(x, y):\n",
    "    rect_width = random(10, 20)\n",
    "    rect_height = random(10, 20)\n",
    "    rect(x, y, rect_width, rect_height)\n",
    "\n",
    "\n",
    "def calculate_y_value(x):\n",
    "    if x < width / 2:\n",
    "        return random(height / 2)\n",
    "    else:\n",
    "        return random(height / 2, height)\n",
    "\n",
    "\n",
    "for i in range(100):\n",
    "    x_location = random(0, width)\n",
    "    y_location = calculate_y_value(x_location)\n",
    "    draw_random_marker(x_location, y_location)"
   ]
  },
  {
   "cell_type": "markdown",
   "id": "4f611e73-4c54-4ff0-b489-738aa2648b9d",
   "metadata": {},
   "source": [
    "In this example, the `calculate_y_value()` function creates a more complex relationship between the variables `x_location` and `y_location`.\n",
    "\n",
    "Observe the \"if\" statement inside of the function. The code in the \"if\" statement is indented twice.\n",
    "\n",
    "- [ ] Modify the `calculate_y_value()` function so that the markers are drawn in the lower left corner or the upper right corner."
   ]
  },
  {
   "cell_type": "markdown",
   "id": "97274086-f996-4e28-8463-77e8c3e9f9d8",
   "metadata": {},
   "source": [
    "## Exercises\n",
    "\n",
    "There's a lot more that could be set about py5, but you now know enough to get started with the basics. Spend some time on the below exercises to reinforce what you've learned.\n",
    "\n",
    "Below are some suggestions of things you can try to draw with py5bot.\n",
    "\n",
    "- [ ] Draw a series of rectangles stacked on top of each other like a pyramid.\n",
    "- [ ] Draw a human face. Make it randomly look happy or sad.\n",
    "- [ ] Find a national or group flag you like and recreate it with py5bot."
   ]
  },
  {
   "cell_type": "code",
   "execution_count": null,
   "id": "ebf48021-c0d2-40d8-b164-973badfa4052",
   "metadata": {},
   "outputs": [],
   "source": []
  },
  {
   "cell_type": "code",
   "execution_count": null,
   "id": "9dfd3cbb-95a8-47c7-b814-0c6ba77150b3",
   "metadata": {},
   "outputs": [],
   "source": []
  },
  {
   "cell_type": "code",
   "execution_count": null,
   "id": "259c1267-3cdb-4ffb-a5dd-6996876cc94e",
   "metadata": {},
   "outputs": [],
   "source": []
  },
  {
   "cell_type": "code",
   "execution_count": null,
   "id": "3848f959-f6d5-4b50-95b9-331037724a52",
   "metadata": {},
   "outputs": [],
   "source": []
  },
  {
   "cell_type": "code",
   "execution_count": null,
   "id": "ab0d367e-4d6d-43e3-9e4b-a8fbdc22d570",
   "metadata": {},
   "outputs": [],
   "source": []
  },
  {
   "cell_type": "code",
   "execution_count": null,
   "id": "737079a5-4464-4184-a9e0-41acc0fef430",
   "metadata": {},
   "outputs": [],
   "source": []
  }
 ],
 "metadata": {
  "kernelspec": {
   "display_name": "py5bot",
   "language": "python",
   "name": "py5bot"
  },
  "language_info": {
   "codemirror_mode": {
    "name": "ipython",
    "version": 3
   },
   "file_extension": ".py",
   "mimetype": "text/x-python",
   "name": "python",
   "nbconvert_exporter": "python",
   "pygments_lexer": "ipython3",
   "version": "3.8.13"
  }
 },
 "nbformat": 4,
 "nbformat_minor": 5
}
