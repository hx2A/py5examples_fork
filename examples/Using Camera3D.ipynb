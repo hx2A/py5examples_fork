{
 "cells": [
  {
   "cell_type": "markdown",
   "id": "b9d0f4a7-2e63-40be-9398-55be35628bd8",
   "metadata": {},
   "source": [
    "# Using py5 with Camera3D\n",
    "\n",
    "This is a simple demonstration of how you can use py5 with the Processing library Camera3D. If you are running this notebook through binder, the running Sketch will be viewable through a py5 Sketch Portal.\n",
    "\n",
    "[![Binder](https://mybinder.org/badge_logo.svg)](https://mybinder.org/v2/gh/py5coding/py5examples/HEAD?filepath=examples%2FUsing%20Camera3D.ipynb)"
   ]
  },
  {
   "cell_type": "markdown",
   "id": "75e34f26-8406-4ac8-a203-e210c739b12b",
   "metadata": {},
   "source": [
    "## Import Jars\n",
    "\n",
    "Camera3D is a Processing library, and therefore the library itself is written in Java. The library is stored in a Jar file that must be added to the Java classpath. By default, any Jar files stored in a `jars` subdirectory are automatically added to the Java classpath. In this repo the Jar files are stored in a subdirectory of the root directory, so the `jars` directory must be explicitly added."
   ]
  },
  {
   "cell_type": "code",
   "execution_count": 1,
   "id": "dd2774c2-5db1-4e14-962f-3d11c40a840d",
   "metadata": {},
   "outputs": [],
   "source": [
    "import py5_tools\n",
    "py5_tools.add_jars('../jars')"
   ]
  },
  {
   "cell_type": "markdown",
   "id": "56722f6f-73f4-407d-be55-ca0a992e1323",
   "metadata": {},
   "source": [
    "## Import py5\n",
    "\n",
    "Import the py5 library. When the library is imported the Java Virtual Machine (JVM) is started. Any additions or changes to the Java classpath must be done before importing py5."
   ]
  },
  {
   "cell_type": "code",
   "execution_count": 2,
   "id": "da1f087c-7292-4cdc-a92a-be38354b0ab1",
   "metadata": {},
   "outputs": [],
   "source": [
    "import py5"
   ]
  },
  {
   "cell_type": "markdown",
   "id": "0fffecd4-2b07-4956-b825-475839b22482",
   "metadata": {},
   "source": [
    "## Import Camera3D\n",
    "\n",
    "We must explicitly tell py5 to prepare a Java class for us to use in Python. The following line of code will allow us to create an instance of the Camera3D class in the `setup()` method."
   ]
  },
  {
   "cell_type": "code",
   "execution_count": 3,
   "id": "8feedca5-3695-450a-9d7d-8781eaa5c6a4",
   "metadata": {},
   "outputs": [],
   "source": [
    "from camera3D import Camera3D"
   ]
  },
  {
   "cell_type": "markdown",
   "id": "ea4fdaf2-970d-40ba-b97a-12c30f9a3dde",
   "metadata": {},
   "source": [
    "## Define Global Variables\n",
    "\n",
    "Define some global variables that will be used by the Sketch."
   ]
  },
  {
   "cell_type": "code",
   "execution_count": 4,
   "id": "b0448c3c-879b-45aa-b10e-b32e559e1bfc",
   "metadata": {},
   "outputs": [],
   "source": [
    "rot_x = 0\n",
    "rot_y = 0\n",
    "rot_z = 0"
   ]
  },
  {
   "cell_type": "markdown",
   "id": "aa1b9bbe-3410-4160-a4f4-d0e3f9fce164",
   "metadata": {},
   "source": [
    "## Define `setup` Method\n",
    "\n",
    "The setup method will set the frame rate and other basic setup stuff. It will also create an instance of Camera3D and set some Camera3D options."
   ]
  },
  {
   "cell_type": "code",
   "execution_count": 5,
   "id": "a4ad4653-7f8b-4700-b99e-9129ddcf90e1",
   "metadata": {},
   "outputs": [],
   "source": [
    "def setup():\n",
    "    py5.size(400, 400, py5.P3D)\n",
    "    py5.frame_rate(30)\n",
    "    py5.stroke_weight(8)\n",
    "    py5.stroke(0)\n",
    "    py5.no_fill()\n",
    "\n",
    "    camera3D = Camera3D(py5.get_current_sketch())\n",
    "    camera3D.setBackgroundColor(py5.color(192))\n",
    "    camera3D.renderDefaultAnaglyph().setDivergence(1)"
   ]
  },
  {
   "cell_type": "markdown",
   "id": "c1b6720c-72df-4315-863b-3a763b7fd803",
   "metadata": {},
   "source": [
    "## Define `pre_draw` Method\n",
    "\n",
    "The `pre_draw` method is a Camera3D addition that runs once before any calls to the `draw` method. Camera3D will call the `draw` method multiple times per frame. It is helpful to have the ability to have some code run only once per frame instead of multiple times. In this case, we are adjusting the rotation variables."
   ]
  },
  {
   "cell_type": "code",
   "execution_count": 6,
   "id": "34150df6-2e2f-4f90-9d90-a79a6decab4a",
   "metadata": {},
   "outputs": [],
   "source": [
    "def pre_draw():\n",
    "    global rot_x\n",
    "    rot_x += 0.8\n",
    "    global rot_y\n",
    "    rot_y += 0.3\n",
    "    global rot_z\n",
    "    rot_z += 0.5"
   ]
  },
  {
   "cell_type": "markdown",
   "id": "d85936c5-0309-4d03-b9a5-b3307bd51c66",
   "metadata": {},
   "source": [
    "## Define `draw` Method\n",
    "\n",
    "The draw method will do some transformations and draw a box."
   ]
  },
  {
   "cell_type": "code",
   "execution_count": 7,
   "id": "1fc86055-85b7-4ce3-8c31-1757f7156b8a",
   "metadata": {},
   "outputs": [],
   "source": [
    "def draw():\n",
    "    py5.translate(py5.width / 2, py5.height / 2, -200)\n",
    "    py5.rotate_x(py5.radians(rot_x))\n",
    "    py5.rotate_y(py5.radians(rot_y))\n",
    "    py5.rotate_z(py5.radians(rot_z))\n",
    "\n",
    "    py5.box(250)"
   ]
  },
  {
   "cell_type": "markdown",
   "id": "2631175c-f8ea-4617-b525-eafb9f89e8f9",
   "metadata": {},
   "source": [
    "## Define `post_draw` Method\n",
    "\n",
    "Similar to `pre_draw`, the `post_draw` method is run after all calls to the `draw` method. This `post_draw` method doesn't do anything, but we will need it for reasons that will be clear later."
   ]
  },
  {
   "cell_type": "code",
   "execution_count": 8,
   "id": "65d3e279-0a12-4c6b-a0e4-6eae6ebf323e",
   "metadata": {},
   "outputs": [],
   "source": [
    "def post_draw():\n",
    "    pass"
   ]
  },
  {
   "cell_type": "markdown",
   "id": "72fb7f80-3365-4806-8827-a18f38e86d40",
   "metadata": {},
   "source": [
    "## Run the Sketch\n",
    "\n",
    "Run the sketch, opening a window on the display. If you are running this through a JupterHub platform such as binder, no window will appear on your computer because the Sketch is really running on a server in the cloud. As an alternative, we will create a py5 Sketch Portal to view the animation."
   ]
  },
  {
   "cell_type": "code",
   "execution_count": 9,
   "id": "fbfbe627-0f71-4da2-9d32-0a4772bdf3ad",
   "metadata": {},
   "outputs": [],
   "source": [
    "py5.run_sketch()"
   ]
  },
  {
   "cell_type": "markdown",
   "id": "66c4a491-7028-437f-9dbd-9c376a698aff",
   "metadata": {},
   "source": [
    "## Open the py5 Sketch Portal\n",
    "\n",
    "This will create a Sketch portal and embed it in the notebook.\n",
    "\n",
    "Internally the portal uses a hook mechanism that allows you to insert code to be run before or after any py5 method. This hook mechanism will also allow developers to create py5 libraries and extensions.\n",
    "\n",
    "Since Camera3D works by calling the `draw` method multiple times and creating a composite image, the py5 Sketch portal needs to run after the composite image has been created. To do that, we will use the dummy `post_draw` method and the `hook_post_draw` parameter."
   ]
  },
  {
   "cell_type": "code",
   "execution_count": 10,
   "id": "b05a1c53-7f8d-41f3-b72b-82b1a49f3be1",
   "metadata": {},
   "outputs": [
    {
     "data": {
      "application/vnd.jupyter.widget-view+json": {
       "model_id": "40f1e269102d4a39bee821dc51502612",
       "version_major": 2,
       "version_minor": 0
      },
      "text/plain": [
       "VBox(children=(Py5SketchPortal(value=b'', layout=\"Layout(border='1px solid gray', height='400px', width='400px…"
      ]
     },
     "metadata": {},
     "output_type": "display_data"
    }
   ],
   "source": [
    "portal = py5_tools.sketch_portal(hook_post_draw=True)\n",
    "\n",
    "portal"
   ]
  },
  {
   "cell_type": "markdown",
   "id": "3df4b973-dc4e-4fc3-8cde-7adbdee83c96",
   "metadata": {},
   "source": [
    "## Next Steps for Jupyter Lab Users\n",
    "\n",
    "If you are using Jupyter Lab, after executing the previous cell, try right clicking in the output area and selecting `Create New View for Output`. This will create a new panel just for the Sketch portal. Creating a `New Console for Notebook` and creating a portal there works well also."
   ]
  },
  {
   "cell_type": "code",
   "execution_count": null,
   "id": "a87f322a-6ad1-424b-ab42-5210feaa5e8f",
   "metadata": {},
   "outputs": [],
   "source": []
  }
 ],
 "metadata": {
  "kernelspec": {
   "display_name": "Python 3",
   "language": "python",
   "name": "python3"
  },
  "language_info": {
   "codemirror_mode": {
    "name": "ipython",
    "version": 3
   },
   "file_extension": ".py",
   "mimetype": "text/x-python",
   "name": "python",
   "nbconvert_exporter": "python",
   "pygments_lexer": "ipython3",
   "version": "3.8.12"
  },
  "widgets": {
   "application/vnd.jupyter.widget-state+json": {
    "state": {},
    "version_major": 2,
    "version_minor": 0
   }
  }
 },
 "nbformat": 4,
 "nbformat_minor": 5
}
