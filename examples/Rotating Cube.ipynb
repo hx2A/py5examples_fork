{
 "cells": [
  {
   "cell_type": "markdown",
   "id": "aca7d498-2317-4460-ba99-37c27e854324",
   "metadata": {},
   "source": [
    "# Rotating Cube\n",
    "\n",
    "This is a simple demonstration of using py5 in Jupyter notebooks. This will use the P3D (OpenGL) renderer. If you are running this notebook through binder, the running Sketch will be viewable through a py5 Sketch Portal.\n",
    "\n",
    "[![Binder](https://mybinder.org/badge_logo.svg)](https://mybinder.org/v2/gh/hx2A/py5examples/HEAD?filepath=examples%2FRotating%20Cube.ipynb)\n"
   ]
  },
  {
   "cell_type": "markdown",
   "id": "6d19e126-9c37-4ab7-aaf1-a11ef5fc7b91",
   "metadata": {},
   "source": [
    "## Import py5 and py5_tools\n",
    "\n",
    "Import the py5 library. When the library is imported the Java Virtual Machine (JVM) is started."
   ]
  },
  {
   "cell_type": "code",
   "execution_count": 1,
   "id": "26b3834f-a171-4229-97c1-6cee9d335eba",
   "metadata": {},
   "outputs": [],
   "source": [
    "import py5_tools\n",
    "import py5"
   ]
  },
  {
   "cell_type": "markdown",
   "id": "d70a8072-d85d-4be6-bd53-3c4570608c2a",
   "metadata": {},
   "source": [
    "## Define Global Variables\n",
    "\n",
    "Define some global variables that will be used by the Sketch."
   ]
  },
  {
   "cell_type": "code",
   "execution_count": 2,
   "id": "8ed9a999-a272-4ee9-8757-3a03fd9d1b5b",
   "metadata": {},
   "outputs": [],
   "source": [
    "rot_x = 0\n",
    "rot_y = 0\n",
    "rot_z = 0"
   ]
  },
  {
   "cell_type": "markdown",
   "id": "128cc381-6116-4f2d-b566-156dd53f6923",
   "metadata": {},
   "source": [
    "## Define `setup` Method\n",
    "\n",
    "This will set the width and height of the Sketch, along with the frame rate and other basic setup type stuff.\n",
    "\n",
    "py5 allows you to call the `size()` method from `setup()` and skip `settings()` altogether. This is analogous to what can be done in the Processing IDE."
   ]
  },
  {
   "cell_type": "code",
   "execution_count": 3,
   "id": "9d0a4a73-f302-4216-a826-f30af6785e96",
   "metadata": {},
   "outputs": [],
   "source": [
    "def setup():\n",
    "    py5.size(400, 400, py5.P3D)\n",
    "    py5.frame_rate(30)\n",
    "    py5.stroke_weight(8)\n",
    "    py5.stroke(0)\n",
    "    py5.no_fill()"
   ]
  },
  {
   "cell_type": "markdown",
   "id": "fa9b4be8-100e-4d00-93a6-11af71cd9c18",
   "metadata": {},
   "source": [
    "## Define `draw` Method\n",
    "\n",
    "The draw method will do some transformations and draw a box."
   ]
  },
  {
   "cell_type": "code",
   "execution_count": 4,
   "id": "6d7adde3-ecab-4399-bfa8-6b35fa66c66d",
   "metadata": {},
   "outputs": [],
   "source": [
    "def draw():\n",
    "    py5.background(192)\n",
    "\n",
    "    global rot_x\n",
    "    rot_x += 0.8\n",
    "    global rot_y\n",
    "    rot_y += 0.3\n",
    "    global rot_z\n",
    "    rot_z += 0.5\n",
    "\n",
    "    py5.translate(py5.width / 2, py5.height / 2, -200)\n",
    "    py5.rotate_x(py5.radians(rot_x))\n",
    "    py5.rotate_y(py5.radians(rot_y))\n",
    "    py5.rotate_z(py5.radians(rot_z))\n",
    "\n",
    "    py5.box(250)"
   ]
  },
  {
   "cell_type": "markdown",
   "id": "fafb8281-ae53-4e5b-a424-6cdb2347139c",
   "metadata": {},
   "source": [
    "## Run the Sketch\n",
    "\n",
    "Run the sketch, opening a window on the display. If you are running this through a JupterHub platform such as binder, no window will appear on your computer because the Sketch is really running on a server in the cloud. As an alternative, we will create a py5 Sketch Portal to view the animation."
   ]
  },
  {
   "cell_type": "code",
   "execution_count": 5,
   "id": "3799f21b-e2c9-452c-8c67-c8fa6e599100",
   "metadata": {},
   "outputs": [],
   "source": [
    "py5.run_sketch()"
   ]
  },
  {
   "cell_type": "markdown",
   "id": "b1c8631f-d97c-4a39-9262-28a9c5b1a1c9",
   "metadata": {},
   "source": [
    "## Open the py5 Sketch Portal\n",
    "\n",
    "This will create a Sketch portal and embed it in the notebook.\n",
    "\n",
    "Internally the portal uses a hook mechanism that allows you to insert code to be run before or after any py5 method. This hook mechanism will one day allow developers to create py5 libraries and extensions.\n",
    "\n",
    "To be clear, although you will see a live animation in the Sketch Portal, the Sketch is not actually running in your browser. It's kind of like when you watch a live television program on your TV. The live events are taking place somewhere else, but images of the events are being broadcast to your television."
   ]
  },
  {
   "cell_type": "code",
   "execution_count": 6,
   "id": "37441e77-de01-437b-b5f1-d7c437d8df58",
   "metadata": {},
   "outputs": [
    {
     "data": {
      "application/vnd.jupyter.widget-view+json": {
       "model_id": "",
       "version_major": 2,
       "version_minor": 0
      },
      "text/plain": [
       "VBox(children=(Py5SketchPortal(value=b'', layout=\"Layout(border='1px solid gray', height='400px', width='400px…"
      ]
     },
     "metadata": {},
     "output_type": "display_data"
    }
   ],
   "source": [
    "portal = py5_tools.sketch_portal(quality=75, scale=1.0)\n",
    "\n",
    "portal"
   ]
  },
  {
   "cell_type": "markdown",
   "id": "9b884946-f480-475b-b1c6-5b52baac0b33",
   "metadata": {},
   "source": [
    "You should see a clean and smooth animation. If you are running this through mybinder, the animation quality will be dependent on your having a good internet connection and a well behaved server. If it seems jumpy, try adjusting the quality or the scale. You can also try using the `throttle_frame_rate` parameter to lower the sketch portal's frame to below the Sketch's frame rate. See the documenation for more information."
   ]
  },
  {
   "cell_type": "markdown",
   "id": "66565b93-bbdc-48ea-baaf-47d9559678f8",
   "metadata": {},
   "source": [
    "## Check the Sketch `frame_rate`\n",
    "\n",
    "Check the frame rate. You should be able to get 30 frames per second for this Sketch. I've been able to get 60 frames per second while running on mybinder, but not all the time."
   ]
  },
  {
   "cell_type": "code",
   "execution_count": 7,
   "id": "bfe8c4fb-2d73-4540-9552-b7dceb9c8cd5",
   "metadata": {},
   "outputs": [
    {
     "data": {
      "text/plain": [
       "29.863340377807617"
      ]
     },
     "execution_count": 7,
     "metadata": {},
     "output_type": "execute_result"
    }
   ],
   "source": [
    "py5.get_frame_rate()"
   ]
  },
  {
   "cell_type": "markdown",
   "id": "ca3b15b1-d9c8-4cf5-ab7a-c52477aca2e8",
   "metadata": {},
   "source": [
    "## Next Steps for Jupyter Lab Users\n",
    "\n",
    "If you are using Jupyter Lab, after executing the previous cell, try right clicking in the output area and selecting `Create New View for Output`. This will create a new panel just for the Sketch portal. Creating a `New Console for Notebook` and creating a portal there works well also."
   ]
  },
  {
   "cell_type": "code",
   "execution_count": null,
   "id": "e38a5d08-f787-489c-9b14-ce75aa3d9d4c",
   "metadata": {},
   "outputs": [],
   "source": []
  }
 ],
 "metadata": {
  "kernelspec": {
   "display_name": "Python 3",
   "language": "python",
   "name": "python3"
  },
  "language_info": {
   "codemirror_mode": {
    "name": "ipython",
    "version": 3
   },
   "file_extension": ".py",
   "mimetype": "text/x-python",
   "name": "python",
   "nbconvert_exporter": "python",
   "pygments_lexer": "ipython3",
   "version": "3.8.10"
  },
  "widgets": {
   "application/vnd.jupyter.widget-state+json": {
    "state": {
     "2a5a5f62a9414ab28e2086d0200e4948": {
      "model_module": "@jupyter-widgets/base",
      "model_module_version": "1.2.0",
      "model_name": "LayoutModel",
      "state": {}
     },
     "357930f1656241a99fffdf699fe9c524": {
      "model_module": "@jupyter-widgets/controls",
      "model_module_version": "1.5.0",
      "model_name": "ButtonModel",
      "state": {
       "description": "exit_sketch()",
       "layout": "IPY_MODEL_8f8b0a0f054e4b6ea264478ca7e99feb",
       "style": "IPY_MODEL_42d1f934621b4d09ba8e6feca7186bea"
      }
     },
     "41f439dc649f4cb6941602acca00bab9": {
      "buffers": [
       {
        "data": "/9j/4AAQSkZJRgABAQAAAQABAAD/2wBDAAgGBgcGBQgHBwcJCQgKDBQNDAsLDBkSEw8UHRofHh0aHBwgJC4nICIsIxwcKDcpLDAxNDQ0Hyc5PTgyPC4zNDL/2wBDAQkJCQwLDBgNDRgyIRwhMjIyMjIyMjIyMjIyMjIyMjIyMjIyMjIyMjIyMjIyMjIyMjIyMjIyMjIyMjIyMjIyMjL/wAARCAGQAZADASIAAhEBAxEB/8QAHwAAAQUBAQEBAQEAAAAAAAAAAAECAwQFBgcICQoL/8QAtRAAAgEDAwIEAwUFBAQAAAF9AQIDAAQRBRIhMUEGE1FhByJxFDKBkaEII0KxwRVS0fAkM2JyggkKFhcYGRolJicoKSo0NTY3ODk6Q0RFRkdISUpTVFVWV1hZWmNkZWZnaGlqc3R1dnd4eXqDhIWGh4iJipKTlJWWl5iZmqKjpKWmp6ipqrKztLW2t7i5usLDxMXGx8jJytLT1NXW19jZ2uHi4+Tl5ufo6erx8vP09fb3+Pn6/8QAHwEAAwEBAQEBAQEBAQAAAAAAAAECAwQFBgcICQoL/8QAtREAAgECBAQDBAcFBAQAAQJ3AAECAxEEBSExBhJBUQdhcRMiMoEIFEKRobHBCSMzUvAVYnLRChYkNOEl8RcYGRomJygpKjU2Nzg5OkNERUZHSElKU1RVVldYWVpjZGVmZ2hpanN0dXZ3eHl6goOEhYaHiImKkpOUlZaXmJmaoqOkpaanqKmqsrO0tba3uLm6wsPExcbHyMnK0tPU1dbX2Nna4uPk5ebn6Onq8vP09fb3+Pn6/9oADAMBAAIRAxEAPwD0CiiigAooooAKKKKACiiigAooooAKKKKACiiigAooooAKKKKACiiigAooooAKKKKACiiigAooooAKKKKACiiigAooooAKKKKACiiigAooooAKKKKACiiigAooooAKKKKACiiigAooooAKKKKACiiigAooooAKKKKACiiigAooooAKKKKACiiigAooooAKKKKACiiigAooooAKKKKACiiigAooooAKKKKACiiigAooooAKKKKACiiigAooooAKKKKACiiigAooooAKKKKACiiigAooooAKKKKACiiigAooooAKKKKACiiigAooooAKKKKACiiigAooooAKKKKACiiigAooooAKKKKACiiigAooooAKKKKACiiigAooooAKKKKACiiigAooooAKKKKACiiigAooooAKKKKACiiigAooooAKKKKACiiigAooooAKKKKACiiigAooooAKKKKACiiigAooooAKKK5/WPG/hzQyUvdUgEoIBiiPmOMjIyq5I4559vUUAdBRXk+s/Gy1iLx6NprzsCwE1ydi+xCjkjPqQcfXja8DfEyDxTdrpl5ai11EoWUo2Y5cAZ255B6nHPAPNAHfUUUUAFFFFABRRRQAUUUUAFFFFABRRRQAUUUUAFFFFABRRRQAUUUUAFFFFABRRRQAUUUUAFFFFABRRRQAUUUUAFFFFABRRRQAUUUUAFFFFABRUVxcwWkLTXM0cMSglnkYKoAGTkmuM1j4r+GNLJSG4kv5QQCtquV5Gc7jgH8Cev1wAdxTXdY1LOwVR1LHArw7VPjVrFzFs06wtrIncC7EysM9MZAGR7g54/HhNV8QavrchfUtRuLnkEK7/KCBgYXoO/Qdz60AfQmq/EfwtpMe59ViunIJWO0Pmk4GcZHA/Ej9DXA6x8bbqQlNG0yOFcjEt029iMc/KMAc+5/Xjj9H+HnifWSDDpkkERJBluv3SjA9DyfTgH9DXfaV8EbZY92sarK7kD5LRQoU45+Zgc8+w6e/AB5vqvjTxHrUfl3+r3EkeCDGhEasCMHIUAHj19/U0ml+DPEesxebY6RcyRHaRIwEasD0ILYBH09q+g9H8EeHNDIey0uASgkiWUeY4yMHDNkjjjj39TXQUAeBXvwi1XTfDt9ql3fWwltY2l+zxKz7lXk5bjBxuPQ9BzzxxOj6lJo+s2WpQgl7aZZdoYruAPK5HYjIPsa+qNVsl1HR72xbdtubeSE7SAcMpHGe/NfJVAH11aXUN9ZQXds++CeNZY3wRuVhkHB5HBqavPvhBro1PwmdOcsbjTX2EsScxsSUOT/wJcdgor0GgAooooAKKKKACiiigAooooAKKKKACiiigAooooAKKKKACiiigAooooAKKKKACiiigAooooAKKKKACiiigAooooAKKydT8T6HozFdQ1W1gkCl/LaQF8D/AGRyeh7c4rhdY+NWl2xMek2E94wI/eSnykIxzjqT6cgd/wAQD1Cqeoatp2kxCXUL63tUJABmkC5J9M9eh/Kvn7U/in4r1Lcq3y2cbKVKWsYT15DHLA89j2HeudtbDV/EV6fs8F3qFyxVXcBpDzwNzdhgdT2HtQB7Vqfxl8PWm5bGG7vn2kqyp5aE84BLcjt/CeD+FcJrHxf8R6gStl5GnRZBHlLvfpyCzcdfQDt75XSfg/4jvmDX3kadFznzHDv04IVcjr6kdD+Pf6N8IPDunFJL3ztRmUqf3p2pkf7K9iexJ7D1yAeGy3Wq63cRxSz3l/PliiO7St6nA5Pbn6V1WjfCnxNqpR57dNPgJUlrlsNg8nCDJyPQ45P1x75p+k6dpMRi0+xt7VCSSIYwuSfXHXoPyq5QB5fo/wAFdLtiJNWv57xgT+7iHlIRjjPUn14I7fj32leH9I0OPZpmnW9twAWRPmbAwMseT36nufWtKigAooooAKKKKACvlLxFbpaeJ9WtolVY4byaNQq4AAcgYHYV9W185fFS1e2+IWoMybUnWOVOc7hsAJ/76DUAL8LddbRvGttCz4tr/wD0aQEE/MfuEAd92Bk5wGNfRlfIMcjwypLE7JIhDKynBUjoQexr6n8L6wNe8MadqeQXnhBk2qVHmD5XAB7bgaANeiiigAooooAKKKKACiiigAooooAKKKKACiiigAooooAKKKKACiiigAooooAKKKKACiikZgqlmIAAySe1AC0Vx+r/ABO8LaTlft/22TGdlmPMzzj72QvqevT8M8PrHxtupCU0bTI4VyMS3Tb2Ixz8owBz7n9eAD2iuf1jxv4c0MlL3VIBKCAYoj5jjIyMquSOOefb1FfO+r+Ktd13I1LVLidCMGPdtQ85+6uF6+3YelWNG8E+IteKNZaZN5LFf38o8tMHnOW6jHPGe3qKAPQtT+N6Biuk6QzDacSXcmMN2+Vc8dP4vy61wusfEPxPrJIm1OSCIkERWv7pRgeo5PryT+grs9L+CM7eU+rasiAgl4rZNxB7AM34Z49veu90b4eeGdEKPBpqTTqVImuf3jZHQjPAPfgDn6CgD570zw3rWsNGNP0u6nWQEq6xkIcdfmPHbHXrxXeaN8FtUuSkmr3sNnHlSYov3j47jPCg9s89/wAfb1UKoVQAAMADtS0AcRpPwo8L6WweS2lv5Rk7rt9w5GPugAEdeoPX6V2VvbQWkKw20McMSgBUjUKoAGBgCpaKACiiigAooooAKKKKACiiigAooooAK8Q+N1j5Wv6bfA8T2xixtxyjZznv98flXt9eWfG+yWTQ9Lvyx3Q3LQgZ4Idcn/0WPzoA8ZFpI1g16uDEkoifGcozAlc/Xa2Mf3TnHGfWvgjrKhdS0SR1DEi6hXHLcBX5/BOPrXIeCdNGv6R4j0ONC13Japd23yA/PE3QZIwWEhXPox/HE8La0fD3iaw1XaWSCX94oGSUIKvgZHO0nHPXFAH1TRSKwZQykEEZBHeloAKKKKACiiigAooooAKKKKACiiigAooooAKKKKACiiigAooooAKKKKACiiigArkviXqF3pvgW+nsp3gmJSPenBCswBwe3B611tcT8Wf+SfXv/XSL/wBDFAHzrXX+BNG8Ma1qAttd1Ge3uGkAhhACRyjGcGTnBJ4xx2wSTxB4E8OW3irW7jTLmR4t1o7xypyY3BXBx3HqPQ9jgiLxV4J1fwlP/pkQks3cpDdx8o/GcEdVOOx9DjIGaAPoHS/B3h3Rlj+xaRarJGDtldA8nOc/M2T3Pf2rcr548HfEzVPDbx2l4z32l7lDJIxaSFQMYjJPAHHynjjA25Jr3HQPEml+JrEXWmXKyAAGSInEkRPZ17Hg+xxwTQBrUUUUAFFFFABRRRQAUUUUAFFFFABRRRQAUUUUAFFFFABXGfFSz+1/D+/YReY8DRzLhNxXDgEj0wpbJ9M12dZXie1e+8K6vaxpvkls5VRc4y2w45+uKAPCvhPdtbfEGyjGzbcRyxMW7DYWGPfKgfjVH4g6Cvh7xle2sMRjtZSJ7ccAbG6gAdAG3KP92s/wpcNa+L9GmVnXbew5KHBKlwCPxGR+NesfGjQ1udDtdaiizNaSeVK6gD903TJ6nDYAH+2aAN74X64da8E2quoWWxP2RscAhQNpH/ASo+oNdlXgXwd1lrDxa+nMx8nUIiuABjzEBZSSeem8cd2Fe+0AFFFFABRRRQAUUUUAFFFFABRRRQAUUUUAFFFFABRRRQAUUUUAFFFFABRRRQAVxPxZ/wCSfXv/AF0i/wDQxXbVxPxZ/wCSfXv/AF0i/wDQxQB5t8G/+R4f/rzk/mte+TQx3EMkM0aSRSKUdHUFWUjBBB6g14H8G/8AkeH/AOvOT+a17/QB5H4t+DsTobrwwfLcfesppCVIx/Ax5ByOjHHPUYxXldtdat4b1XzIHudPvoSNwIKMOhwynqDxwRg19YVgeJfB2jeK4Amo25WdQAl1DhZUAOcBiDkcnggjk9+aAOR8J/F6w1FI7TX9ljeE4E6g+S+SAM9Sh55z8vBOR0r02vmnxZ4A1jwpIZJk+1WJyVu4FJVRuwA/9wnK8dOcAnBqXwj8RNX8KBLYEXmmgsfskhxtJ5yrYJXntyOTxk5oA+kaKxfDvirSfFNmbjTLjcyY8yFxtkjJHcf1GRweeK2qACiiigAooooAKKKKACiiigAooooAKKKiuLq3tImluZ4oY1BYtI4UADqcnsKAJaK5DUvib4U03g6kLl9hcLaoZM+2fu5PufriuTv/AI4QLKF07RZJI/79xMEPfjaoPtzmgDyTUrM6dql3YsxY20zwliu3O1iM47dK+orgWfiHwu4eXZZ6jaf6zphZF4IyOvPcV8vapqD6rqt1qEsUUUlzK0rpFnbuY5OMknk5PXvSSXV9qBt7eSe5uSgEcETOz7egCqO3QDA9BQAf6Xo2rcHyb2yn6qQ2yRG7EZBwR7ivqvTL+PVdKtNQhBWO5hSZVbGQGAODjuM18o3djd2Eix3lrPbuy71WaMoSuSMgHtkEfhXvfwevzd+BltyADZ3MkQ5zkHD59uXI/CgDvqKKKACiiigAooooAKKKKACiiigAooooAKKKKACiiigAooooAKKKKACiiigAriviujN8PL8gZCvET7DzFH9RXa1x/wAUv+Scat/2x/8ARyUAeWfB+eKHx4iSNhpraRIxg8tw2PyUn8K+g6+b/hb/AMlH0n/tt/6JevpCgAooooARlDKVYAgjBB715b4x+EVteiS+8OhLa5wzNZniOU5z8h/gPUY+70+6BXqdFAHyf/xNfDOt/wDLew1K0f8A3WQ4/UEH6EHuDXrPg74vR3bx2HiQJDMzKkd7GoWM8dZBn5TkdRx83RQM13/iHwxpPiiyW21S28zZuMUqna8RIxlT+RwcgkDIOK8L8W/DTWPDCG5jP9oaeOs8KENHxkl052jrzkjjkjOKAPomGaO4hjmhkSSKRQ6OjAqykZBBHUGn18z+E/HmseE5QkEn2ixJG+0mY7cZySh/gJyeRxzyDgV7x4Y8ZaP4rtt9hPtuFBMlrKQJUAOM4zyORyMjkdDxQB0FFFY1/wCLfD2ltIl5rNlHJGNzR+aGccZ+6MnOOgxz2oA2aK851H4zeHrVSLKC7vZNuVIQRpnngluR27Hr+FcpqHxs1ebaLDTbS1AJLeaxlJHYfw4/z0oA9xqlf6xpulReZf39tbJkLmWQLyeg57182X/jjxPqQAudbu8Ak7Yn8oHPqExnp36Vn6doeq6uwGnaddXQLbN0URZQeOrdB1HX1oA921L4t+FrAusM9xeyK2zFvFwffc2ARnjIz7ZrktR+N906yppujxRHpHJPKX4z1KgDnHbPB9awbD4ReKr2LfLFa2fJG24m5+vyhuK67T/gfZJk6lrFxNnottGseOvdt2e3YUAcFqfxJ8V6m0m7VJLaNwBstQI9uPRh836/pxXPxw6lrV63lx3V/dMMttVpXIGBz1PoPyr6L0/4c+FNO3eXo8MxYgk3OZcY9A2QP610lvbQWkKw20McMSgBUjUKoAGBgCgD51034X+K9R5Oni0QoHDXThM57Y5YH6jjHNdZpnwPlOx9V1hF674rWMt64w7Y9j931HvXsdFAHzb8QfCVv4Q1q2tLSS5lt5rYSeZNjl9xDAEADjAOO2a9M+DEkcvg6YeVCskV26FkXDMCqNlj364+gHpWR8crVzDot2qfIrSxO+ehO0qMfg3+cUz4G3DZ1u2LOV/cyKuflB+cE49T8v5UAP8AjlauYdFu1T5FaWJ3z0J2lRj8G/zik+B125j1mzZiY1MUqLgcE7g3PXnC/lXQfGCya78CPMGwLS5jmIx94HKY/wDHwfwrzr4P3q2njtIWUk3dtJCpA6EYk5/BDQB9B0UUUAFFFFABRRRQAUUUUAFFFFABRRRQAUUUUAFFFFABRRRQAUUUUAFFFFABXH/FL/knGrf9sf8A0cldhXH/ABS/5Jxq3/bH/wBHJQB4/wDC3/ko+k/9tv8A0S9fSFfN/wALf+Sj6T/22/8ARL19IUAFFFFABRRRQAUUUUAea+LvhJYasWu9CMWn3hxmAjbA/qcAEocegxx05Jrxi90/VPD2piK7guLG8hbehOVYEMQGVh1GQcMDjjg19Y15D8c43MWhShGMamdWbHAJ8vAz6nB/I0AeZan4l1vWd41DVbu4R8bo2lOzjH8A+UdB2681Lp3hHxDqyhrLR7uSMrvWQxlEYcdGbAPUd69B+B8FvJca1LJFE06CDy2ZQWUEvnB6gZC5+gr2WgDwaw+DHiG4aM3lzZWkZGWG8yOvHTAGCc8Hn6ZrrtM+C2iW2xtQvbu9cZ3KuIkbr2GW9P4uo/CvS6KAMDTvBPhrS1i+zaNab4uVkljEjg5znc2TnPft2reVQqhVAAAwAO1LRQAUUUUAFFFFABRRRQBwPxhszdeBWmDEC1uo5iNuc5ymPb7/AOnvXnvwdu0tvHPlOwDXNrJEgwTkgq/4cIeteweOrRL3wNrUUihlW1eUAkjlBvHT3UV4D4CvW0/x3o0yruLXKw4zjiT5Cfw3ZoA+gfGlgNT8F6xamNpGNs7oigkl0G9QAOSdyivnvwTevYeN9GnjKgm7SJi3QK52N+jGvp90WRGRhlWBBHtXyVcQz6ZqUsPmbZ7WYpvjYjDKcZB69RxQB9b0VFbXEd3axXMLB4pUEiMCCCpGQcipaACiiigAooooAKKKKACiiigAooooAKKKKACiiigAooooAKKKKACiiigArj/il/yTjVv+2P8A6OSuwrmPiJafbPAGsRb9m2ES5xn7jB8fjtx+NAHi3wt/5KPpP/bb/wBEvX0hXzX8M5DH8Q9IYYyXkXn3jYf1r6UoAKKKKACiiigAooooAK8z+NsZPhWwk4wt6FP4o/8AhXpleffGS1e48DpKhULb3kcr56kEMnHvlh+tAHJ/BC6RNb1S0IbzJbZZVPbCtg/j84/Wvba8E+C8mzxrOuM77F1+nzof6V73QAUUUUAFFFFABRRRQAUUUUAFFFFAEVzbx3drLbTKHilQxupAIKkYIwa+TbeafTNSim8vbPazB9kikYZTnBHXqOa+t6+XPGlk1h401m3O3/j7d12kkBWO4DnvgigD6hR1kRXU5VgCD7V8zfECyWw8e6zCu7DXBm+YgnMgDnp2+avoHwfeC/8ABuj3AlMrNaRq7ltxLqoVsn13A5rx/wCM9mIPGUFwkRVbi0RmfbgO4ZlPPchQv6e1AHq/gG9W/wDAejTLuwtuIfmABzGSh6dvlro688+DV61x4Lkt22j7Ndui4BztIVsn3yzfkK9DoAKKKKACiiigAooooAKKKKACiiigAooooAKKKKACiiigAooooAKKKKACsHxv/wAiPrX/AF5yfyrerB8b/wDIj61/15yfyoA8G+G//JQdI/66N/6A1fS9fNHw3/5KDpH/AF0b/wBAavpegAooooAKKKKACiiigArjfirGH+HWpMc5RoWH/f1R/WuyrnPHsEVz4D1lJV3KLZnAyR8y/Mp/MA0AeLfCieWH4h6ekbYWZJUkGByvls2PzUH8K+jK+avhq7J8Q9IKnB3uPwMbA19K0AFFFFABRRRQAUUUUAFFFFABRRRQAV88/F2ya08fTzFsi7gimAx90AbMf+OE/jX0NXi/xxtETUtHvAo8yWGSJjk8hCCOOn8Z/OgDsPhJdpc/D+1iRgWtppYnGCMEsX/Hhx0rnvjjZO9jo98oXy4pJIXPfLBSv4fI1P8AgfeF9L1ex2nEM0cwbd13qRjH/bP9fatv4u2S3fgGeZmINpPFMoB6kny+fwc0Acr8D78Ld6vpzSNueOOeNMnA2kqx9M/Mn5D049lr55+EV61p4+ghC5F3BLCTn7oA35/8cA/GvoagAooooAKKKKACiiigAooooAKKKKACiiigAooooAKKKKACiiigAooooAKwfG//ACI+tf8AXnJ/Kt6sHxv/AMiPrX/XnJ/KgDwb4b/8lB0j/ro3/oDV9L180fDf/koOkf8AXRv/AEBq+l6ACiiigAooooAKKKKACsnxRG83hHWookZ5HsJ1VVGSxMbYAHc1rVFco0lrMijLMjAD3xQB8t+FGC+MNEZiABfwEk9v3i19U18laXdJY6vZXcoYxwTpKwXqQrAnHvxX1rQAUUUUAFFFFABRRRQAUUUUAFFFFABXm/xqt2k8IWkyq7eVeruIGQqlHGT6c4H416RXK/Em0a9+H2rRps3JGsuW7BHVj+OAR+NAHmnwUunj8VXtrvxHNZliuOrK645+jNXr/ii0e/8ACmrWsSlpZbSVUUEDLbTgZPvivAvhnefYviBpbGXYkrPC2X2htyEAH1+bbgeuK+kmUMpVgCCMEHvQB8t+D7p7Lxno06PsxeRKxxn5WYK36E19S18k6nZNpmrXlgzb2tp3hLYxkqxGcfhX1dp92l/ptreRMGjuIUlUgEZDAEcHnvQBYooooAKKKKACiiigAooooAKKKKACiiigAooooAKKKKACiiigAooooAKx/Fn/ACJuuf8AYPuP/RbVsVj+LP8AkTdc/wCwfcf+i2oA+b/Cf/I5aH/2ELf/ANGLX1RXyv4T/wCRy0P/ALCFv/6MWvqigAooooAKKKKACiiigAooooA+Rry1exvri0lKmSCRomK9CVODj24r63ikEsSSLnDqGGfevlfxRGIvFusxrnCX06jPtI1fTPh+6e+8N6VdyhRJPZxSsF6AsgJx7c0AaNFFFABRRRQAUUUUAFFFFABRRRQAVU1WyXUdHvbFt225t5ITtIBwykcZ781booA+TNGvV0zXNPv3UsttcxzEAZJCsD/SvrOvk/XrSLT/ABFqdlCMRW93LEg54VXIHX2FfUWiXh1HQdOvmUqbm1imKlt2Nyg4z360AfOvxGtIrL4gaxFEMK0qynr950V2/VjXuPw7vvt/gHSJcYKQ+SRu3fcJT9QoOO2a8x+Ndq8fiqyutmI5rMKGz1ZXbPH0Za6v4KXgl8K3lqZS0kF2WCFs7EZVxgdgSH/HPvQB6VRRRQAUUUUAFFFFABRRRQAUUUUAFFFFABRRRQAUUUUAFFFFABRRRQAVj+LP+RN1z/sH3H/otq2Kx/Fn/Im65/2D7j/0W1AHzf4T/wCRy0P/ALCFv/6MWvqivlfwn/yOWh/9hC3/APRi19UUAFFFFABRRRQAUUUUAFFFFAHzJ8QYIrbx9rKRLtUz7yMk/MwDMfzJNe/eC3Z/BOiFjk/Yoh+AUAV4X8UVC/EbVgAAMxHj/rklewfCxgfhzpYBBIMwPt+9egDsaKKKACiiigAooooAKKKKACiiigAooooA+cfinaPa/EHUGZSEnEcsZJByCgB/8eDD8K9h+GV0938PdKaR97xq8R4xgK7BR/3yBXnXxttGj8S6fefJsmtPLAHXcrsST+Dj8q6f4KXnm+Fr20aXc0F2WCl8lFZVxx2GQx9zmgCv8b7JX0XSr75t0Nw0I5GMOufz/dj9ax/gferHq2rWBU7poEmBxwAjEH/0YPyruPipZ/a/h/fsIvMeBo5lwm4rhwCR6YUtk+ma8o+FF89n4/s41ICXUckL5z02lhjH+0q0AfRVFFFABRRRQAUUUUAFFFFABRRRQAUUUUAFFFFABRRRQAUUUUAFFFFABWd4gtXvvDeq2kRUST2csSlugLIQM+3NaNQ3n/Hjcf8AXNv5UAfLfheQReLdGkbOEvoGOPaRa+qq+UPD/wDyMulf9fkP/oYr6voAKKKKACiiigAooooAKKKKAPAvjMjL42iJGA1lGR7jc4/oa9C+EU8U3gGBI2y0M8qSDB4bO7H5MD+NcT8brV08Saddkr5ctn5SjvlXYn8PnH610/wTkB8JX0fOVvmY/jGn+FAHpVFFFABRRRQAUUUUAFFVbnU7CzieW6vraCNDh3llVQvOOSTxzWRdeO/CtnG7y67ZMExkQyeaefQJknr2oA6GiuIn+LPhGJXKX00xUZAjt3BbjoNwHPbnFZUnxt0EN+707UmGOrKg/wDZjQB6ZRXjknxzlOPL8Povruuy3/sgrHk+NHiZ8bbfTY8f3YX5/NzQB1HxvslfRdKvvm3Q3DQjkYw65/P92P1rH+B96seratYFTumgSYHHACMQf/Rg/KuK1/xtr3ia3+zaneLJbCXzkiWFFCNggYIGcAMRyTVDRdd1Pw9eteaVdG3nZDGW2K2VJBIwwI6gflQB9O+IbF9T8N6nYxgGSe1kjTOcbipx0564r5m8M3n9n+KdKuzL5SxXcTO2/aAu4bsnsMZB9q7W0+NWvxSr9qsrCeLJ3BVZGPHGDuIHPsa83kKGVzErLGSdqs24gdgTgZPvgUAfX1FVNKvV1HR7K+XdtubeOYbgAcMoPOO/NW6ACiiigAooooAKKKKACiiigAooooAKKKKACiiigAooooAKKKKACobz/jxuP+ubfyqaobz/AI8bj/rm38qAPlbw/wD8jLpX/X5D/wChivq+vk7Q5Eh8QabLK6pGl1EzMxwFAcZJPYV9Q3mu6Rp6qb3VLK3DAlfNnVd2OuMnnqOlAGhRXMXfxE8JWezzdbt235x5KtL09dgOOvesm6+MHhS3iDxSXlyxONkUGCPf5iBj8e9AHe0V5Xd/HDTUTNlo91M27GJpFjG31yN3PTj9aybn44X7ROLXRbaKQn5GlmaQDnuAFzx7igD2qivAJ/jJ4olVwi2EJYYBjgJK8dRuY89+c1kXHxI8X3KMsmtzAMpU+XGkZx7FVGD7jmgD6Wpkk0UWPMkRM9NzAZr5Wk8S69K26TW9Sc4xlrpz/WsugD1T403+n3t1pP2O+t7iWLz45khlVzGQUwGA6Hr19Kr/AAu8a6V4asNRtdWn8lHlSSHbEzMxIIbOOMDC/mevbzOigD3u6+M/huCR0gt9QuMYw6RKqt/30wP6Vk3vxxgVsWOhySLj7084Qg56YAORjvmvGqKAPTrv4263I/8Aoem2ECbcES75Gz6ggqPTjFZV38W/Ftxs8q7t7XbnPk26nd9d+79Mda4atSPw1r0rbY9E1JzjOFtXP9KAL914+8V3cQjl128VQd2Ym8o/muDj2rHutU1C+iEV3f3VxGDuCyzM4B9cE9eTW3bfD3xZdxJJHodyqucAS7Yz1xyGII/GtW1+EXiy4iLywWtswONktwCT7/LkY/HtQBwlFeo2nwR1d9/2zVbGHGNvkq8mfXOQuO3rWrafA62V83uuSyLt+7DbhCG+pY5HXtQB4zRXvdr8GPDcEiPPcahcYzlHlVVb/vlQf1rVt/hd4Pt3V/7J8xlYMDJPIw47EbsEexFAHzfRX1LH4O8MxZ26Bppz/etUb+YrXjt4Ym3RxRocYyqgUAfKkGgazcqjW+kX8qyDchjtnYMMZyMDkYrVtvh74su4kkj0O5VXOAJdsZ645DEEfjX01RQB89Wvwi8WXEReWC1tmBxsluASff5cjH49q39F+Cl2t+kmt39sbVGBaK1Zi0g5yMkDb26Z79K9mooAaiLGioowqgAD2p1FFABRRRQAUUUUAFFFFABRRRQAUUUUAFFFFABRRRQAUUUUAFFFFABTJo/NgkjzjepXPpkU+igD5R13Qr/w5qsunajFsmTlWHKyL2ZT3B/xBwQRUFrpeoX0RltLC6uIwdpaKFnAPpkDryK+taKAPlSPwzr8ufL0PUnx122khx+lXLTwL4pvN/laDfLsxnzo/K6+m/Genavp+igD5rj+GfjCRsLosgOM/NNGv82qxB8KPGE0yxvpscCnOZJLmMqOO+1if0r6MooA8BX4NeJywBk08AnqZm4/8dqxH8E/EJlQS3+mLGSNzK8jEDuQNgyfbIr3aigDxj/hRt1/0HYf/AY//FVP/wAKL/6mP/yR/wDtlewUUAeYf8KR0X/oJ6h/45/8TV20+DXhi3fdNJf3Xy42yzALn1G1Qf1716FRQByVr8MvCFpIki6OsjrnmaV3Bz6qWwfyrVt/Cfh21dXh0LTkdWDK/wBmQspHQg4yK2KKAGRwxRZ8uNEz12qBmn0UUAFFFFABRRRQAUUUUAFFFFABRRRQAUUUUAFFFFABRRRQAUUUUAFFFFABRRRQAUUUUAFFFFABRRRQAUUUUAFFFFABRRRQAUUUUAFFFFABRRRQAUUUUAFFFFABRRRQAUUUUAFFFFABRRRQAUUUUAFFFFABRRRQAUUUUAFFFFABRRRQAUUUUAFFFFABRRRQAUUUUAFFFFABRRRQAUUUUAFFFFABRRRQAUUUUAFFFFABRRRQAUUUUAFFFFABRRRQAUUUUAFFFFABRRRQAUUUUAFFFFABRRRQAUUUUAFFFFABRRRQAUUUUAFFFFABRRRQAUUUUAFFFFABRRRQAUUUUAFFFFABRRRQAUUUUAFFFFABRRRQAUUUUAFFFFABRRRQAUUUUAFFFFABRRRQAUUUUAFFFFABRRRQAUUUUAFFFFABRRRQAUUUUAFFFFABRRRQAUUUUAFFFFABRRRQAUUUUAFFFFABRRRQAUUUUAFFFFABRRRQAUUUUAFFFFABRRRQAUUUUAFFFFABRRRQAUUUUAFFFFABRRRQAUUUUAFFFFABRRRQAUUUUAFFFFABRRRQAUUUUAFFFFABRRRQAUUUUAFFFFABRRRQAUUUUAFFFFABRRRQAUUUUAFFFFABRRRQAUUUUAFFFFABRRRQAUUUUAFFFFABRRRQAUUUUAFFFFABRRRQAUUUUAFFFFABRRRQAUUUUAFFFFABRRRQAUUUUAFFFFABRRRQAUUUUAFFFFABRRRQAUUUUAFFFFABRRRQAUUUUAFFFFABRRRQAUUUUAFFFFABRRRQAUUUUAFFFFABRRRQAUUUUAFFFFABRRRQAUUUUAFFFFABRRRQAUUUUAFFFFABRRRQAUUUUAf/2Q==",
        "encoding": "base64",
        "path": [
         "value"
        ]
       }
      ],
      "model_module": "@jupyter-widgets/controls",
      "model_module_version": "1.5.0",
      "model_name": "ImageModel",
      "state": {
       "layout": "IPY_MODEL_87c1cd1eb87e4db686523049811c1fe4"
      }
     },
     "42d1f934621b4d09ba8e6feca7186bea": {
      "model_module": "@jupyter-widgets/controls",
      "model_module_version": "1.5.0",
      "model_name": "ButtonStyleModel",
      "state": {}
     },
     "4e820e4dd59544aea951e0f4607cf7c4": {
      "model_module": "@jupyter-widgets/controls",
      "model_module_version": "1.5.0",
      "model_name": "VBoxModel",
      "state": {
       "children": [
        "IPY_MODEL_41f439dc649f4cb6941602acca00bab9",
        "IPY_MODEL_357930f1656241a99fffdf699fe9c524"
       ],
       "layout": "IPY_MODEL_2a5a5f62a9414ab28e2086d0200e4948"
      }
     },
     "87c1cd1eb87e4db686523049811c1fe4": {
      "model_module": "@jupyter-widgets/base",
      "model_module_version": "1.2.0",
      "model_name": "LayoutModel",
      "state": {
       "border": "1px solid gray",
       "height": "400px",
       "width": "400px"
      }
     },
     "8f8b0a0f054e4b6ea264478ca7e99feb": {
      "model_module": "@jupyter-widgets/base",
      "model_module_version": "1.2.0",
      "model_name": "LayoutModel",
      "state": {}
     }
    },
    "version_major": 2,
    "version_minor": 0
   }
  }
 },
 "nbformat": 4,
 "nbformat_minor": 5
}
