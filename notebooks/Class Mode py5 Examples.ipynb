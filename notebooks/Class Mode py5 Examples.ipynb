{
 "cells": [
  {
   "cell_type": "markdown",
   "id": "efb95878-ff4a-4500-8b90-333ff5441752",
   "metadata": {},
   "source": [
    "# Class Mode py5 Examples"
   ]
  },
  {
   "cell_type": "code",
   "execution_count": null,
   "id": "0fd64185-8d40-4211-8681-fc7d1779b660",
   "metadata": {},
   "outputs": [],
   "source": [
    "import py5_tools\n",
    "from py5 import Sketch"
   ]
  },
  {
   "cell_type": "markdown",
   "id": "a77a293b-7821-4dc2-b90b-455e0fb99ce3",
   "metadata": {},
   "source": [
    "# Class Definition\n",
    "\n",
    "In class mode, all of the functions must be defined together.\n",
    "\n",
    "Class mode is not the best fit for programming in Jupyter Notebooks because everything must go in one cell. However, classes are fundamental to object oriented programming."
   ]
  },
  {
   "cell_type": "code",
   "execution_count": null,
   "id": "97b088c6-6f7a-4f1b-b055-2ec32481a16f",
   "metadata": {},
   "outputs": [],
   "source": [
    "class Test(Sketch):\n",
    "    \n",
    "    def settings(self):\n",
    "        self.size(600, 400)\n",
    "        \n",
    "    def setup(self):\n",
    "        self.background(128)\n",
    "        \n",
    "    def draw(self):\n",
    "        self.rect(self.random(self.width),\n",
    "                  self.random(self.height),\n",
    "                  10, 10)"
   ]
  },
  {
   "cell_type": "markdown",
   "id": "f9b0f755-5c6a-4cf0-b3c0-d0ce73977d8a",
   "metadata": {},
   "source": [
    "## Three Important Points:\n",
    "\n",
    "* Class mode requires separate `settings()` and `setup()` functions.\n",
    "* Don't forget to only use the prefix `self.` and not `py5.`!\n",
    "* Class mode is the only way to run multiple Sketches at the same time in the same notebook."
   ]
  },
  {
   "cell_type": "markdown",
   "id": "c3c177d6-20b7-40ee-b975-b13010ab7120",
   "metadata": {},
   "source": [
    "## Run the Sketch!"
   ]
  },
  {
   "cell_type": "code",
   "execution_count": null,
   "id": "2b87daf0-45f9-4774-8172-4af4a02f99f5",
   "metadata": {},
   "outputs": [],
   "source": [
    "test = Test()\n",
    "test.run_sketch()"
   ]
  },
  {
   "cell_type": "code",
   "execution_count": null,
   "id": "bacbbc0b",
   "metadata": {},
   "outputs": [],
   "source": [
    "py5_tools.sketch_portal(sketch=test)"
   ]
  },
  {
   "cell_type": "markdown",
   "id": "86ff2e48-92f2-4e0c-83de-84b7aa8c8ce4",
   "metadata": {},
   "source": [
    "## new draw function\n",
    "\n",
    "Define a second class."
   ]
  },
  {
   "cell_type": "code",
   "execution_count": null,
   "id": "205b40d1-d9cf-43bc-be46-29d8b9f7baf1",
   "metadata": {},
   "outputs": [],
   "source": [
    "class Test2(Sketch):\n",
    "    \n",
    "    def settings(self):\n",
    "        self.size(600, 400)\n",
    "        \n",
    "    def setup(self):\n",
    "        self.background(128)\n",
    "        \n",
    "    def draw(self):\n",
    "        self.rect(self.mouse_x, self.mouse_y,\n",
    "                  10, 10)"
   ]
  },
  {
   "cell_type": "markdown",
   "id": "adc3cfb1-c7d3-4190-8b64-80d07fc37b51",
   "metadata": {},
   "source": [
    "## Run the Second Sketch!"
   ]
  },
  {
   "cell_type": "code",
   "execution_count": null,
   "id": "32802698-a3fd-4952-9303-6d24d9467fd0",
   "metadata": {},
   "outputs": [],
   "source": [
    "test2 = Test2()\n",
    "\n",
    "test2.run_sketch()"
   ]
  },
  {
   "cell_type": "code",
   "execution_count": null,
   "id": "3eb84b01-e1a4-44fe-8d9f-a458da4ba25d",
   "metadata": {},
   "outputs": [],
   "source": [
    "py5_tools.sketch_portal(sketch=test2)"
   ]
  },
  {
   "cell_type": "code",
   "execution_count": null,
   "id": "73a47b9d",
   "metadata": {},
   "outputs": [],
   "source": []
  }
 ],
 "metadata": {
  "kernelspec": {
   "display_name": "Python 3 (ipykernel)",
   "language": "python",
   "name": "python3"
  },
  "language_info": {
   "codemirror_mode": {
    "name": "ipython",
    "version": 3
   },
   "file_extension": ".py",
   "mimetype": "text/x-python",
   "name": "python",
   "nbconvert_exporter": "python",
   "pygments_lexer": "ipython3",
   "version": "3.8.13"
  },
  "widgets": {
   "application/vnd.jupyter.widget-state+json": {
    "state": {},
    "version_major": 2,
    "version_minor": 0
   }
  }
 },
 "nbformat": 4,
 "nbformat_minor": 5
}
