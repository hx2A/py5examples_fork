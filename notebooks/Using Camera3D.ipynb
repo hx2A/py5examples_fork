{
 "cells": [
  {
   "cell_type": "markdown",
   "id": "b9d0f4a7-2e63-40be-9398-55be35628bd8",
   "metadata": {},
   "source": [
    "# Using py5 with Camera3D\n",
    "\n",
    "This is a simple demonstration of how you can use py5 with the Processing library Camera3D. If you are running this notebook through binder, the running Sketch will be viewable through a py5 Sketch Portal.\n",
    "\n",
    "[![Binder](https://mybinder.org/badge_logo.svg)](https://mybinder.org/v2/gh/py5coding/py5examples/HEAD?filepath=notebooks%2FUsing%20Camera3D.ipynb)"
   ]
  },
  {
   "cell_type": "markdown",
   "id": "56722f6f-73f4-407d-be55-ca0a992e1323",
   "metadata": {},
   "source": [
    "## Import py5\n",
    "\n",
    "Import the py5 library. When the library is imported the Java Virtual Machine (JVM) is started. Any additions or changes to the Java classpath must be done before importing py5.\n",
    "\n",
    "Camera3D is a Processing library, and therefore the library itself is written in Java. The library is stored in a Jar file that must be added to the Java classpath. By default, any Jar files stored in a `jars` subdirectory are automatically added to the Java classpath."
   ]
  },
  {
   "cell_type": "code",
   "execution_count": 1,
   "id": "da1f087c-7292-4cdc-a92a-be38354b0ab1",
   "metadata": {},
   "outputs": [],
   "source": [
    "import py5_tools\n",
    "\n",
    "import py5"
   ]
  },
  {
   "cell_type": "markdown",
   "id": "0fffecd4-2b07-4956-b825-475839b22482",
   "metadata": {},
   "source": [
    "## Import Camera3D\n",
    "\n",
    "We must explicitly tell py5 to prepare a Java class for us to use in Python. The following line of code will allow us to create an instance of the Camera3D class in the `setup()` method."
   ]
  },
  {
   "cell_type": "code",
   "execution_count": 2,
   "id": "8feedca5-3695-450a-9d7d-8781eaa5c6a4",
   "metadata": {},
   "outputs": [],
   "source": [
    "from camera3D import Camera3D"
   ]
  },
  {
   "cell_type": "markdown",
   "id": "ea4fdaf2-970d-40ba-b97a-12c30f9a3dde",
   "metadata": {},
   "source": [
    "## Define Global Variables\n",
    "\n",
    "Define some global variables that will be used by the Sketch."
   ]
  },
  {
   "cell_type": "code",
   "execution_count": 3,
   "id": "b0448c3c-879b-45aa-b10e-b32e559e1bfc",
   "metadata": {},
   "outputs": [],
   "source": [
    "rot_x = 0\n",
    "rot_y = 0\n",
    "rot_z = 0"
   ]
  },
  {
   "cell_type": "markdown",
   "id": "aa1b9bbe-3410-4160-a4f4-d0e3f9fce164",
   "metadata": {},
   "source": [
    "## Define `setup` Method\n",
    "\n",
    "The setup method will set the frame rate and other basic setup stuff. It will also create an instance of Camera3D and set some Camera3D options."
   ]
  },
  {
   "cell_type": "code",
   "execution_count": 4,
   "id": "a4ad4653-7f8b-4700-b99e-9129ddcf90e1",
   "metadata": {},
   "outputs": [],
   "source": [
    "def setup():\n",
    "    py5.size(400, 400, py5.P3D)\n",
    "    py5.frame_rate(30)\n",
    "    py5.stroke_weight(8)\n",
    "    py5.stroke(0)\n",
    "    py5.no_fill()\n",
    "\n",
    "    camera3D = Camera3D(py5.get_current_sketch())\n",
    "    camera3D.setBackgroundColor(py5.color(192))\n",
    "    camera3D.renderDefaultAnaglyph().setDivergence(1)"
   ]
  },
  {
   "cell_type": "markdown",
   "id": "c1b6720c-72df-4315-863b-3a763b7fd803",
   "metadata": {},
   "source": [
    "## Define `pre_draw` Method\n",
    "\n",
    "The `pre_draw` method is a Camera3D addition that runs once before any calls to the `draw` method. Camera3D will call the `draw` method multiple times per frame. It is helpful to have the ability to have some code run only once per frame instead of multiple times. In this case, we are adjusting the rotation variables."
   ]
  },
  {
   "cell_type": "code",
   "execution_count": 5,
   "id": "34150df6-2e2f-4f90-9d90-a79a6decab4a",
   "metadata": {},
   "outputs": [],
   "source": [
    "def pre_draw():\n",
    "    global rot_x\n",
    "    rot_x += 0.8\n",
    "    global rot_y\n",
    "    rot_y += 0.3\n",
    "    global rot_z\n",
    "    rot_z += 0.5"
   ]
  },
  {
   "cell_type": "markdown",
   "id": "d85936c5-0309-4d03-b9a5-b3307bd51c66",
   "metadata": {},
   "source": [
    "## Define `draw` Method\n",
    "\n",
    "The draw method will do some transformations and draw a box."
   ]
  },
  {
   "cell_type": "code",
   "execution_count": 6,
   "id": "1fc86055-85b7-4ce3-8c31-1757f7156b8a",
   "metadata": {},
   "outputs": [],
   "source": [
    "def draw():\n",
    "    py5.translate(py5.width / 2, py5.height / 2, -200)\n",
    "    py5.rotate_x(py5.radians(rot_x))\n",
    "    py5.rotate_y(py5.radians(rot_y))\n",
    "    py5.rotate_z(py5.radians(rot_z))\n",
    "\n",
    "    py5.box(250)"
   ]
  },
  {
   "cell_type": "markdown",
   "id": "2631175c-f8ea-4617-b525-eafb9f89e8f9",
   "metadata": {},
   "source": [
    "## Define `post_draw` Method\n",
    "\n",
    "Similar to `pre_draw`, the `post_draw` method is run after all calls to the `draw` method. This `post_draw` method doesn't do anything, but we will need it for reasons that will be clear later."
   ]
  },
  {
   "cell_type": "code",
   "execution_count": 7,
   "id": "65d3e279-0a12-4c6b-a0e4-6eae6ebf323e",
   "metadata": {},
   "outputs": [],
   "source": [
    "def post_draw():\n",
    "    pass"
   ]
  },
  {
   "cell_type": "markdown",
   "id": "72fb7f80-3365-4806-8827-a18f38e86d40",
   "metadata": {},
   "source": [
    "## Run the Sketch\n",
    "\n",
    "Run the sketch, opening a window on the display. If you are running this through a JupterHub platform such as binder, no window will appear on your computer because the Sketch is really running on a server in the cloud. As an alternative, we will create a py5 Sketch Portal to view the animation."
   ]
  },
  {
   "cell_type": "code",
   "execution_count": 8,
   "id": "fbfbe627-0f71-4da2-9d32-0a4772bdf3ad",
   "metadata": {},
   "outputs": [
    {
     "name": "stdout",
     "output_type": "stream",
     "text": [
      "Camera 3D 1.2.2 by Jim Schmitz https://ixora.io\n"
     ]
    }
   ],
   "source": [
    "py5.run_sketch()"
   ]
  },
  {
   "cell_type": "markdown",
   "id": "66c4a491-7028-437f-9dbd-9c376a698aff",
   "metadata": {},
   "source": [
    "## Open the py5 Sketch Portal\n",
    "\n",
    "This will create a Sketch portal and embed it in the notebook.\n",
    "\n",
    "Internally the portal uses a hook mechanism that allows you to insert code to be run before or after any py5 method. This hook mechanism will also allow developers to create py5 libraries and extensions.\n",
    "\n",
    "Since Camera3D works by calling the `draw` method multiple times and creating a composite image, the py5 Sketch portal needs to run after the composite image has been created. To do that, we will use the dummy `post_draw` method and the `hook_post_draw` parameter."
   ]
  },
  {
   "cell_type": "code",
   "execution_count": 9,
   "id": "b05a1c53-7f8d-41f3-b72b-82b1a49f3be1",
   "metadata": {},
   "outputs": [
    {
     "data": {
      "application/vnd.jupyter.widget-view+json": {
       "model_id": "225bbb8d511f43e2bbae75a0d8898f0f",
       "version_major": 2,
       "version_minor": 0
      },
      "text/plain": [
       "Output(layout=Layout(max_height='200px', overflow='auto'))"
      ]
     },
     "metadata": {},
     "output_type": "display_data"
    },
    {
     "data": {
      "application/vnd.jupyter.widget-view+json": {
       "model_id": "0a529704de3f435f8b2c710f0be4cb0e",
       "version_major": 2,
       "version_minor": 0
      },
      "text/plain": [
       "VBox(children=(Py5SketchPortal(height='400', layout=Layout(border='1px solid gray', height='402px', width='402…"
      ]
     },
     "metadata": {},
     "output_type": "display_data"
    }
   ],
   "source": [
    "portal = py5_tools.sketch_portal(hook_post_draw=True)\n",
    "\n",
    "portal"
   ]
  },
  {
   "cell_type": "markdown",
   "id": "3df4b973-dc4e-4fc3-8cde-7adbdee83c96",
   "metadata": {},
   "source": [
    "## Next Steps for Jupyter Lab Users\n",
    "\n",
    "If you are using Jupyter Lab, after executing the previous cell, try right clicking in the output area and selecting `Create New View for Output`. This will create a new panel just for the Sketch portal. Creating a `New Console for Notebook` and creating a portal there works well also."
   ]
  },
  {
   "cell_type": "code",
   "execution_count": null,
   "id": "a87f322a-6ad1-424b-ab42-5210feaa5e8f",
   "metadata": {},
   "outputs": [],
   "source": []
  }
 ],
 "metadata": {
  "kernelspec": {
   "display_name": "Python 3 (ipykernel)",
   "language": "python",
   "name": "python3"
  },
  "language_info": {
   "codemirror_mode": {
    "name": "ipython",
    "version": 3
   },
   "file_extension": ".py",
   "mimetype": "text/x-python",
   "name": "python",
   "nbconvert_exporter": "python",
   "pygments_lexer": "ipython3",
   "version": "3.8.13"
  },
  "widgets": {
   "application/vnd.jupyter.widget-state+json": {
    "state": {
     "0487cf4b034c4c93bf4eb97c07686606": {
      "buffers": [
       {
        "data": "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",
        "encoding": "base64",
        "path": [
         "value"
        ]
       }
      ],
      "model_module": "jupyter-py5",
      "model_module_version": "^0.1.0",
      "model_name": "Py5SketchPortalModel",
      "state": {
       "_model_module_version": "^0.1.0",
       "_view_module_version": "^0.1.0",
       "height": "400",
       "layout": "IPY_MODEL_2346d52ef02841dd9a2d391d58e092a2",
       "random_number": "",
       "value": {},
       "width": "400"
      }
     },
     "0a529704de3f435f8b2c710f0be4cb0e": {
      "model_module": "@jupyter-widgets/controls",
      "model_module_version": "1.5.0",
      "model_name": "VBoxModel",
      "state": {
       "children": [
        "IPY_MODEL_aca2a845c4df429eaa4a5904229a2e14",
        "IPY_MODEL_ad904e3f48714e6ebd1818d66badc41b"
       ],
       "layout": "IPY_MODEL_45d48add4cc94b60adef08d4e8f341cc"
      }
     },
     "225bbb8d511f43e2bbae75a0d8898f0f": {
      "model_module": "@jupyter-widgets/output",
      "model_module_version": "1.0.0",
      "model_name": "OutputModel",
      "state": {
       "layout": "IPY_MODEL_2dc6d2293da04271b4631472b23b7e00"
      }
     },
     "2346d52ef02841dd9a2d391d58e092a2": {
      "model_module": "@jupyter-widgets/base",
      "model_module_version": "1.2.0",
      "model_name": "LayoutModel",
      "state": {
       "border": "1px solid gray",
       "height": "402px",
       "width": "402px"
      }
     },
     "264018ebacad470e89e8891fbfabeaa9": {
      "model_module": "@jupyter-widgets/base",
      "model_module_version": "1.2.0",
      "model_name": "LayoutModel",
      "state": {
       "max_height": "200px",
       "overflow": "auto"
      }
     },
     "2dc6d2293da04271b4631472b23b7e00": {
      "model_module": "@jupyter-widgets/base",
      "model_module_version": "1.2.0",
      "model_name": "LayoutModel",
      "state": {
       "max_height": "200px",
       "overflow": "auto"
      }
     },
     "38fdf88f958149b1817a9553ca8fca69": {
      "model_module": "@jupyter-widgets/controls",
      "model_module_version": "1.5.0",
      "model_name": "VBoxModel",
      "state": {
       "children": [
        "IPY_MODEL_0487cf4b034c4c93bf4eb97c07686606",
        "IPY_MODEL_4c0bdf0456944b93ade35a28ec0651a7"
       ],
       "layout": "IPY_MODEL_b22197215e02498293cab40a12180bfb"
      }
     },
     "43b161da82574401a079a04bfb1bb1d4": {
      "model_module": "@jupyter-widgets/base",
      "model_module_version": "1.2.0",
      "model_name": "LayoutModel",
      "state": {}
     },
     "44da87a4a6b548b6906620323c01bc2f": {
      "model_module": "@jupyter-widgets/output",
      "model_module_version": "1.0.0",
      "model_name": "OutputModel",
      "state": {
       "layout": "IPY_MODEL_264018ebacad470e89e8891fbfabeaa9"
      }
     },
     "45d48add4cc94b60adef08d4e8f341cc": {
      "model_module": "@jupyter-widgets/base",
      "model_module_version": "1.2.0",
      "model_name": "LayoutModel",
      "state": {}
     },
     "4b08a34e33f04641851d55d465ba76d1": {
      "model_module": "@jupyter-widgets/controls",
      "model_module_version": "1.5.0",
      "model_name": "ButtonStyleModel",
      "state": {}
     },
     "4c0bdf0456944b93ade35a28ec0651a7": {
      "model_module": "@jupyter-widgets/controls",
      "model_module_version": "1.5.0",
      "model_name": "ButtonModel",
      "state": {
       "description": "exit_sketch()",
       "layout": "IPY_MODEL_e4488e40e3b44cd580df254d1b6807b1",
       "style": "IPY_MODEL_4b08a34e33f04641851d55d465ba76d1"
      }
     },
     "7bbb4e95239646d5a25f1750e1745bdb": {
      "model_module": "@jupyter-widgets/base",
      "model_module_version": "1.2.0",
      "model_name": "LayoutModel",
      "state": {
       "border": "1px solid gray",
       "height": "402px",
       "width": "402px"
      }
     },
     "aca2a845c4df429eaa4a5904229a2e14": {
      "buffers": [
       {
        "data": "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",
        "encoding": "base64",
        "path": [
         "value"
        ]
       }
      ],
      "model_module": "jupyter-py5",
      "model_module_version": "^0.1.0",
      "model_name": "Py5SketchPortalModel",
      "state": {
       "_model_module_version": "^0.1.0",
       "_view_module_version": "^0.1.0",
       "height": "400",
       "layout": "IPY_MODEL_7bbb4e95239646d5a25f1750e1745bdb",
       "random_number": "",
       "value": {},
       "width": "400"
      }
     },
     "ad904e3f48714e6ebd1818d66badc41b": {
      "model_module": "@jupyter-widgets/controls",
      "model_module_version": "1.5.0",
      "model_name": "ButtonModel",
      "state": {
       "description": "exit_sketch()",
       "layout": "IPY_MODEL_43b161da82574401a079a04bfb1bb1d4",
       "style": "IPY_MODEL_f1e114026a85461f8c310241497da3bc"
      }
     },
     "b22197215e02498293cab40a12180bfb": {
      "model_module": "@jupyter-widgets/base",
      "model_module_version": "1.2.0",
      "model_name": "LayoutModel",
      "state": {}
     },
     "e4488e40e3b44cd580df254d1b6807b1": {
      "model_module": "@jupyter-widgets/base",
      "model_module_version": "1.2.0",
      "model_name": "LayoutModel",
      "state": {}
     },
     "f1e114026a85461f8c310241497da3bc": {
      "model_module": "@jupyter-widgets/controls",
      "model_module_version": "1.5.0",
      "model_name": "ButtonStyleModel",
      "state": {}
     }
    },
    "version_major": 2,
    "version_minor": 0
   }
  }
 },
 "nbformat": 4,
 "nbformat_minor": 5
}
