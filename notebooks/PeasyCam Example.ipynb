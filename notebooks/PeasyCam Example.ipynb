{
 "cells": [
  {
   "cell_type": "markdown",
   "id": "7d9aac65",
   "metadata": {},
   "source": [
    "# Using py5 with PeasyCam\n",
    "\n",
    "This is a simple demonstration of how you can use py5 with the Processing library PeasyCam, created by [Jonathan Feinberg](https://mrfeinberg.com/). If you are running this notebook through binder, the running Sketch will be viewable through a py5 Sketch Portal.\n",
    "\n",
    "[![Binder](https://mybinder.org/badge_logo.svg)](https://mybinder.org/v2/gh/py5coding/py5examples/HEAD?filepath=notebooks%2FPeasyCam%20Example.ipynb)"
   ]
  },
  {
   "cell_type": "markdown",
   "id": "b60b04ea",
   "metadata": {},
   "source": [
    "## Import py5\n",
    "\n",
    "Import the py5 library. When the library is imported the Java Virtual Machine (JVM) is started. Any additions or changes to the Java classpath must be done before importing py5.\n",
    "\n",
    "PeasyCam is a Processing library, and therefore the library itself is written in Java. The library is stored in a Jar file that must be added to the Java classpath. By default, any Jar files stored in a `jars` subdirectory are automatically added to the Java classpath."
   ]
  },
  {
   "cell_type": "code",
   "execution_count": null,
   "id": "a228ae84",
   "metadata": {},
   "outputs": [],
   "source": [
    "import py5_tools\n",
    "import py5"
   ]
  },
  {
   "cell_type": "markdown",
   "id": "52ab39ff",
   "metadata": {},
   "source": [
    "## Import PeasyCam\n",
    "\n",
    "[Jpype](https://jpype.readthedocs.io/en/latest/) lets you import Java classes from a jar using the [same syntax as Python imports](https://jpype.readthedocs.io/en/latest/imports.html)."
   ]
  },
  {
   "cell_type": "code",
   "execution_count": null,
   "id": "848b68bc",
   "metadata": {},
   "outputs": [],
   "source": [
    "from peasy import PeasyCam"
   ]
  },
  {
   "cell_type": "markdown",
   "id": "e99a0d55",
   "metadata": {},
   "source": [
    "## Define `setup` method\n",
    "\n",
    "The `setup` method will define the frame rate and other basic stuff. It also creates an instance of `PeasyCam` and link it to the Sketch. Observe that that is done with `PeasyCam(py5.get_current_sketch(), 400)` and not `PeasyCam(this, 400)` as it would be in Java."
   ]
  },
  {
   "cell_type": "code",
   "execution_count": null,
   "id": "2a3d8f92",
   "metadata": {},
   "outputs": [],
   "source": [
    "def setup():\n",
    "    py5.size(400, 400, py5.P3D)\n",
    "    py5.frame_rate(30)\n",
    "    py5.fill(128)\n",
    "    PeasyCam(py5.get_current_sketch(), 400)"
   ]
  },
  {
   "cell_type": "markdown",
   "id": "d1afbfd8",
   "metadata": {},
   "source": [
    "## Define `draw` method\n",
    "\n",
    "Set some lights and draw a simple box."
   ]
  },
  {
   "cell_type": "code",
   "execution_count": null,
   "id": "d0609310",
   "metadata": {},
   "outputs": [],
   "source": [
    "def draw():\n",
    "    py5.rotate_x(-0.4)\n",
    "    py5.rotate_y(-0.5)\n",
    "    py5.lights()\n",
    "    py5.background(0)\n",
    "    py5.box(200)"
   ]
  },
  {
   "cell_type": "markdown",
   "id": "78b2ba3f",
   "metadata": {},
   "source": [
    "## Define a `key_pressed` method\n",
    "\n",
    "This method will change the fill color when the user presses a key. It will also demonstrate the Sketch Portal's ability to respond to key events."
   ]
  },
  {
   "cell_type": "code",
   "execution_count": null,
   "id": "e20af321",
   "metadata": {},
   "outputs": [],
   "source": [
    "def key_pressed():\n",
    "    py5.fill(py5.random_int(255), py5.random_int(255), py5.random_int(255))"
   ]
  },
  {
   "cell_type": "markdown",
   "id": "bc241dff",
   "metadata": {},
   "source": [
    "## Run the Sketch\n",
    "\n",
    "Run the sketch, opening a window on the display. If you are running this through a JupterHub platform such as binder, no window will appear on your computer because the Sketch is really running on a server in the cloud. As an alternative, we will create a py5 Sketch Portal to view the animation."
   ]
  },
  {
   "cell_type": "code",
   "execution_count": null,
   "id": "69300f46",
   "metadata": {},
   "outputs": [],
   "source": [
    "py5.run_sketch()"
   ]
  },
  {
   "cell_type": "markdown",
   "id": "df7ad3c9",
   "metadata": {},
   "source": [
    "## Open the py5 Sketch Portal\n",
    "\n",
    "This will create a Sketch Portal and embed it in the notebook. Try using your mouse to rotate and scale the box, and press any key to change the color. It is fully interactive!"
   ]
  },
  {
   "cell_type": "code",
   "execution_count": null,
   "id": "fbd6d8db",
   "metadata": {},
   "outputs": [],
   "source": [
    "py5_tools.sketch_portal()"
   ]
  },
  {
   "cell_type": "code",
   "execution_count": null,
   "id": "1e37f92d",
   "metadata": {},
   "outputs": [],
   "source": []
  }
 ],
 "metadata": {
  "kernelspec": {
   "display_name": "Python 3 (ipykernel)",
   "language": "python",
   "name": "python3"
  },
  "language_info": {
   "codemirror_mode": {
    "name": "ipython",
    "version": 3
   },
   "file_extension": ".py",
   "mimetype": "text/x-python",
   "name": "python",
   "nbconvert_exporter": "python",
   "pygments_lexer": "ipython3",
   "version": "3.8.13"
  },
  "widgets": {
   "application/vnd.jupyter.widget-state+json": {
    "state": {
     "069e8741e9e340018b97abcc1e46620b": {
      "model_module": "@jupyter-widgets/controls",
      "model_module_version": "1.5.0",
      "model_name": "ButtonModel",
      "state": {
       "description": "exit_sketch()",
       "layout": "IPY_MODEL_158187d0cc45407ead116431792164b6",
       "style": "IPY_MODEL_bd58c20fcbaa4fff8275651da5fe2b41"
      }
     },
     "158187d0cc45407ead116431792164b6": {
      "model_module": "@jupyter-widgets/base",
      "model_module_version": "1.2.0",
      "model_name": "LayoutModel",
      "state": {}
     },
     "4b200df128114932b1580d1ad42623a5": {
      "model_module": "@jupyter-widgets/base",
      "model_module_version": "1.2.0",
      "model_name": "LayoutModel",
      "state": {}
     },
     "61dc67aa371d43568bf8cfa4f2e1b026": {
      "model_module": "@jupyter-widgets/output",
      "model_module_version": "1.0.0",
      "model_name": "OutputModel",
      "state": {
       "layout": "IPY_MODEL_e5407968be404ef49316c25d0418d47b"
      }
     },
     "8eb12d1d015a4f19b3601f6a4164f9f7": {
      "model_module": "@jupyter-widgets/base",
      "model_module_version": "1.2.0",
      "model_name": "LayoutModel",
      "state": {
       "border": "1px solid gray",
       "height": "402px",
       "width": "402px"
      }
     },
     "9c897552e21a4e7e99af82b6a0d3a115": {
      "model_module": "@jupyter-widgets/controls",
      "model_module_version": "1.5.0",
      "model_name": "VBoxModel",
      "state": {
       "children": [
        "IPY_MODEL_cafb7d068d1d466ba2afa750f14554bd",
        "IPY_MODEL_069e8741e9e340018b97abcc1e46620b"
       ],
       "layout": "IPY_MODEL_4b200df128114932b1580d1ad42623a5"
      }
     },
     "bd58c20fcbaa4fff8275651da5fe2b41": {
      "model_module": "@jupyter-widgets/controls",
      "model_module_version": "1.5.0",
      "model_name": "ButtonStyleModel",
      "state": {}
     },
     "cafb7d068d1d466ba2afa750f14554bd": {
      "buffers": [
       {
        "data": "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",
        "encoding": "base64",
        "path": [
         "value"
        ]
       }
      ],
      "model_module": "jupyter-py5",
      "model_module_version": "^0.1.0",
      "model_name": "Py5SketchPortalModel",
      "state": {
       "_model_module_version": "^0.1.0",
       "_view_module_version": "^0.1.0",
       "height": "400",
       "layout": "IPY_MODEL_8eb12d1d015a4f19b3601f6a4164f9f7",
       "random_number": "",
       "value": {},
       "width": "400"
      }
     },
     "e5407968be404ef49316c25d0418d47b": {
      "model_module": "@jupyter-widgets/base",
      "model_module_version": "1.2.0",
      "model_name": "LayoutModel",
      "state": {
       "max_height": "200px",
       "overflow": "auto"
      }
     }
    },
    "version_major": 2,
    "version_minor": 0
   }
  }
 },
 "nbformat": 4,
 "nbformat_minor": 5
}
